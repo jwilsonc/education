{
 "cells": [
  {
   "cell_type": "markdown",
   "id": "b132b4be-0345-4e77-aaf9-5abeb8555332",
   "metadata": {},
   "source": [
    "# Education Project"
   ]
  },
  {
   "cell_type": "code",
   "execution_count": null,
   "id": "fdb1c761-e645-4db0-a2e3-47b0fa92655c",
   "metadata": {},
   "outputs": [],
   "source": []
  }
 ],
 "metadata": {
  "kernelspec": {
   "display_name": "Python [conda env:base] *",
   "language": "python",
   "name": "conda-base-py"
  },
  "language_info": {
   "codemirror_mode": {
    "name": "ipython",
    "version": 3
   },
   "file_extension": ".py",
   "mimetype": "text/x-python",
   "name": "python",
   "nbconvert_exporter": "python",
   "pygments_lexer": "ipython3",
   "version": "3.13.5"
  }
 },
 "nbformat": 4,
 "nbformat_minor": 5
}
