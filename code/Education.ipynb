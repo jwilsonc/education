{
 "cells": [
  {
   "cell_type": "markdown",
   "id": "b132b4be-0345-4e77-aaf9-5abeb8555332",
   "metadata": {},
   "source": [
    "# Education Project"
   ]
  },
  {
   "cell_type": "markdown",
   "id": "859601f7-a348-405b-94df-6de3fb657c1f",
   "metadata": {},
   "source": [
    "The following project is meant to utilize the data science methodology to determine if student performance on the ACT test is correlated to socioeconomic factors, the type of school the students are attending (e.g. private, public, etc.), and whether the students' school receives Title I funding. This correlation is examined by combining three different datasets, pairing their shared values to one another, and visualizing correlative relationships between the various factors involved. This requires the usage of both Python techniques and various visualization tools.\n",
    "\n",
    "The data on ACT scores and socioeconomic factors is sourced from EdGap.org and covers over 7,000 US schools from the 2016-2017 school year. EdGap is an organization mapping the disparity in education outcomes across 20 states. The other two datasets on school type and Title I status feature a variety of key information about over 100,000 United States schools and are also from the 2016-2017 school year. They are derived from the National Center for Education Statistics (NCES).\n",
    "\n",
    "Links to each dataset are listed below:\n",
    "\n",
    "ACT scores/socioeconomic factors: https://raw.githubusercontent.com/brian-fischer/DATA-5100/main/EdGap_data.xlsx\n",
    "\n",
    "school type dataset: https://raw.githubusercontent.com/brian-fischer/DATA-5100/main/EdGap_data.xlsx\n",
    "\n",
    "Title I status dataset: https://nces.ed.gov/ccd/pubschuniv.asp#:~:text=Flat%20and%20SAS%20File%0A(ZIP%204.4%20MB)\n"
   ]
  },
  {
   "cell_type": "markdown",
   "id": "eb8c4175-3e45-40b6-bc9c-91609a44db49",
   "metadata": {},
   "source": [
    "## Import necessary libraries"
   ]
  },
  {
   "cell_type": "code",
   "execution_count": 309,
   "id": "fdb1c761-e645-4db0-a2e3-47b0fa92655c",
   "metadata": {},
   "outputs": [],
   "source": [
    "# Import pandas, numpy, and matplotlib\n",
    "import pandas as pd\n",
    "import numpy as np\n",
    "import matplotlib.pyplot as plt\n",
    "\n",
    "# seaborn is a data visualization library built on matplotlib\n",
    "import seaborn as sns\n",
    "\n",
    "# set the plotting style\n",
    "sns.set_style(\"whitegrid\")"
   ]
  },
  {
   "cell_type": "markdown",
   "id": "f92dd67e-f70c-492b-903c-fc135cb8d7a4",
   "metadata": {},
   "source": [
    "## Import csv files for each data set and create a dataframe for each"
   ]
  },
  {
   "cell_type": "markdown",
   "id": "111fe29f-cbde-4914-bfe3-9db2d3790ecf",
   "metadata": {},
   "source": [
    "Each dataset of interest will be uploaded and converted into a Pandas DataFrame that can be examined and manipulated."
   ]
  },
  {
   "cell_type": "code",
   "execution_count": 310,
   "id": "ea1a2318-16d6-418b-9c01-b03f893fb17d",
   "metadata": {},
   "outputs": [
    {
     "name": "stderr",
     "output_type": "stream",
     "text": [
      "/opt/anaconda3/lib/python3.13/site-packages/openpyxl/worksheet/_read_only.py:85: UserWarning: Unknown extension is not supported and will be removed\n",
      "  for idx, row in parser.parse():\n"
     ]
    }
   ],
   "source": [
    "edgap = pd.read_excel(\n",
    "    'https://raw.githubusercontent.com/brian-fischer/DATA-5100/main/EdGap_data.xlsx',\n",
    "    dtype={'NCESSCH School ID': object}\n",
    ")"
   ]
  },
  {
   "cell_type": "code",
   "execution_count": 312,
   "id": "49cbbb4d-af9d-40c2-b597-78cf6347f8fb",
   "metadata": {},
   "outputs": [
    {
     "name": "stderr",
     "output_type": "stream",
     "text": [
      "/var/folders/l4/9vdd4nyn6b5_3fpx0txllwww0000gn/T/ipykernel_10731/3091787904.py:1: DtypeWarning: Columns (6,9,14,15,18,19,21,22,25,26,29,31,35,39,41,42) have mixed types. Specify dtype option on import or set low_memory=False.\n",
      "  school_information = pd.read_csv('/Users/jacobwilson/education/data/ccd_sch_029_1617_w_1a_11212017 (1).csv', encoding='unicode_escape'\n"
     ]
    }
   ],
   "source": [
    "school_information = pd.read_csv('/Users/jacobwilson/education/data/ccd_sch_029_1617_w_1a_11212017 (1).csv', encoding='unicode_escape'\n",
    "                                )"
   ]
  },
  {
   "cell_type": "code",
   "execution_count": 314,
   "id": "919d45b5-c1a7-4f9a-bd73-32c643f04236",
   "metadata": {},
   "outputs": [],
   "source": [
    "school_characteristics = pd.read_csv('/Users/jacobwilson/Downloads/ccd_sch_129_1617_w_1a_11212017/ccd_sch_129_1617_w_1a_11212017.csv', encoding='unicode_escape')"
   ]
  },
  {
   "cell_type": "markdown",
   "id": "d2ad8d8a-c60a-4bab-87c7-9ebfb906085b",
   "metadata": {},
   "source": [
    "## Inspect contents of datasets"
   ]
  },
  {
   "cell_type": "markdown",
   "id": "1a3bcd74-2fda-4020-bcac-c837b0374d30",
   "metadata": {},
   "source": [
    "Below, the ``info`` command is used to view the number of rows and columns within each dataset, as well as how many missing values are present."
   ]
  },
  {
   "cell_type": "code",
   "execution_count": 318,
   "id": "26611252-c5cb-49c9-859e-38e798f321cf",
   "metadata": {},
   "outputs": [
    {
     "name": "stdout",
     "output_type": "stream",
     "text": [
      "<class 'pandas.core.frame.DataFrame'>\n",
      "RangeIndex: 7986 entries, 0 to 7985\n",
      "Data columns (total 7 columns):\n",
      " #   Column                                           Non-Null Count  Dtype  \n",
      "---  ------                                           --------------  -----  \n",
      " 0   NCESSCH School ID                                7986 non-null   object \n",
      " 1   CT Unemployment Rate                             7972 non-null   float64\n",
      " 2   CT Pct Adults with College Degree                7973 non-null   float64\n",
      " 3   CT Pct Childre In Married Couple Family          7961 non-null   float64\n",
      " 4   CT Median Household Income                       7966 non-null   float64\n",
      " 5   School ACT average (or equivalent if SAT score)  7986 non-null   float64\n",
      " 6   School Pct Free and Reduced Lunch                7986 non-null   float64\n",
      "dtypes: float64(6), object(1)\n",
      "memory usage: 436.9+ KB\n"
     ]
    }
   ],
   "source": [
    "edgap.info()"
   ]
  },
  {
   "cell_type": "code",
   "execution_count": 319,
   "id": "267e9317-9eb1-4653-8320-f1f16277f4f7",
   "metadata": {},
   "outputs": [
    {
     "name": "stdout",
     "output_type": "stream",
     "text": [
      "<class 'pandas.core.frame.DataFrame'>\n",
      "RangeIndex: 102183 entries, 0 to 102182\n",
      "Data columns (total 65 columns):\n",
      " #   Column               Non-Null Count   Dtype  \n",
      "---  ------               --------------   -----  \n",
      " 0   SCHOOL_YEAR          102183 non-null  object \n",
      " 1   FIPST                102183 non-null  int64  \n",
      " 2   STATENAME            102183 non-null  object \n",
      " 3   ST                   102183 non-null  object \n",
      " 4   SCH_NAME             102183 non-null  object \n",
      " 5   LEA_NAME             102183 non-null  object \n",
      " 6   STATE_AGENCY_NO      102183 non-null  object \n",
      " 7   UNION                2533 non-null    float64\n",
      " 8   ST_LEAID             102183 non-null  object \n",
      " 9   LEAID                102183 non-null  object \n",
      " 10  ST_SCHID             102183 non-null  object \n",
      " 11  NCESSCH              102181 non-null  float64\n",
      " 12  SCHID                102181 non-null  float64\n",
      " 13  MSTREET1             102181 non-null  object \n",
      " 14  MSTREET2             1825 non-null    object \n",
      " 15  MSTREET3             28 non-null      object \n",
      " 16  MCITY                102183 non-null  object \n",
      " 17  MSTATE               102183 non-null  object \n",
      " 18  MZIP                 102183 non-null  object \n",
      " 19  MZIP4                60419 non-null   object \n",
      " 20  LSTREET1             102183 non-null  object \n",
      " 21  LSTREET2             582 non-null     object \n",
      " 22  LSTREET3             13 non-null      object \n",
      " 23  LCITY                102183 non-null  object \n",
      " 24  LSTATE               102183 non-null  object \n",
      " 25  LZIP                 102183 non-null  object \n",
      " 26  LZIP4                59145 non-null   object \n",
      " 27  PHONE                102183 non-null  object \n",
      " 28  WEBSITE              51983 non-null   object \n",
      " 29  SY_STATUS            102181 non-null  object \n",
      " 30  SY_STATUS_TEXT       102181 non-null  object \n",
      " 31  UPDATED_STATUS       102181 non-null  object \n",
      " 32  UPDATED_STATUS_TEXT  102181 non-null  object \n",
      " 33  EFFECTIVE_DATE       102181 non-null  object \n",
      " 34  SCH_TYPE_TEXT        102181 non-null  object \n",
      " 35  SCH_TYPE             102181 non-null  object \n",
      " 36  RECON_STATUS         102181 non-null  object \n",
      " 37  OUT_OF_STATE_FLAG    102179 non-null  object \n",
      " 38  CHARTER_TEXT         102179 non-null  object \n",
      " 39  CHARTAUTH1           6687 non-null    object \n",
      " 40  CHARTAUTHN1          6687 non-null    object \n",
      " 41  CHARTAUTH2           116 non-null     object \n",
      " 42  CHARTAUTHN2          116 non-null     object \n",
      " 43  NOGRADES             102179 non-null  object \n",
      " 44  G_PK_OFFERED         102179 non-null  object \n",
      " 45  G_KG_OFFERED         102179 non-null  object \n",
      " 46  G_1_OFFERED          102179 non-null  object \n",
      " 47  G_2_OFFERED          102179 non-null  object \n",
      " 48  G_3_OFFERED          102179 non-null  object \n",
      " 49  G_4_OFFERED          102179 non-null  object \n",
      " 50  G_5_OFFERED          102179 non-null  object \n",
      " 51  G_6_OFFERED          102179 non-null  object \n",
      " 52  G_7_OFFERED          102179 non-null  object \n",
      " 53  G_8_OFFERED          102179 non-null  object \n",
      " 54  G_9_OFFERED          102179 non-null  object \n",
      " 55  G_10_OFFERED         102179 non-null  object \n",
      " 56  G_11_OFFERED         102179 non-null  object \n",
      " 57  G_12_OFFERED         102179 non-null  object \n",
      " 58  G_13_OFFERED         102179 non-null  object \n",
      " 59  G_UG_OFFERED         102179 non-null  object \n",
      " 60  G_AE_OFFERED         102179 non-null  object \n",
      " 61  GSLO                 102179 non-null  object \n",
      " 62  GSHI                 102179 non-null  object \n",
      " 63  LEVEL                102179 non-null  object \n",
      " 64  IGOFFERED            102179 non-null  object \n",
      "dtypes: float64(3), int64(1), object(61)\n",
      "memory usage: 50.7+ MB\n"
     ]
    }
   ],
   "source": [
    "school_information.info()"
   ]
  },
  {
   "cell_type": "code",
   "execution_count": 320,
   "id": "abe1ea23-a0a5-4a5f-94b1-3c4cb5b3655b",
   "metadata": {},
   "outputs": [
    {
     "name": "stdout",
     "output_type": "stream",
     "text": [
      "<class 'pandas.core.frame.DataFrame'>\n",
      "RangeIndex: 100062 entries, 0 to 100061\n",
      "Data columns (total 20 columns):\n",
      " #   Column              Non-Null Count   Dtype  \n",
      "---  ------              --------------   -----  \n",
      " 0   SCHOOL_YEAR         100062 non-null  object \n",
      " 1   FIPST               100062 non-null  int64  \n",
      " 2   STATENAME           100062 non-null  object \n",
      " 3   ST                  100062 non-null  object \n",
      " 4   SCH_NAME            100062 non-null  object \n",
      " 5   STATE_AGENCY_NO     100062 non-null  int64  \n",
      " 6   UNION               2488 non-null    float64\n",
      " 7   ST_LEAID            100062 non-null  object \n",
      " 8   LEAID               100062 non-null  int64  \n",
      " 9   ST_SCHID            100062 non-null  object \n",
      " 10  NCESSCH             100062 non-null  int64  \n",
      " 11  SCHID               100062 non-null  int64  \n",
      " 12  SHARED_TIME         100062 non-null  object \n",
      " 13  TITLEI_STATUS       100062 non-null  object \n",
      " 14  TITLEI_STATUS_TEXT  100062 non-null  object \n",
      " 15  MAGNET_TEXT         100062 non-null  object \n",
      " 16  NSLP_STATUS         100062 non-null  object \n",
      " 17  NSLP_STATUS_TEXT    100062 non-null  object \n",
      " 18  VIRTUAL             100062 non-null  object \n",
      " 19  VIRTUAL_TEXT        100062 non-null  object \n",
      "dtypes: float64(1), int64(5), object(14)\n",
      "memory usage: 15.3+ MB\n"
     ]
    }
   ],
   "source": [
    "school_characteristics.info()"
   ]
  },
  {
   "cell_type": "markdown",
   "id": "b264ac03-12d5-4156-accd-16acb3e5d26b",
   "metadata": {},
   "source": [
    "The dataframes differ dramatically in terms of rows, with the education gap dataset contatining data on substantially less schools than either the school information or school characteristics datasets. Additionally, there are some missing values for variables of interest present in both the education gap and school information datasets."
   ]
  },
  {
   "cell_type": "markdown",
   "id": "17a7e9c6-ec28-4b15-ab72-0dfb5fe6454e",
   "metadata": {},
   "source": [
    "## Data preparation"
   ]
  },
  {
   "cell_type": "markdown",
   "id": "86b5f400-8130-48f6-b5b4-aa5c184a2c4d",
   "metadata": {},
   "source": [
    "The variables of interest from the NCES datasets include things such as school type, whether or not the school is a charter school, and whether or not the school is a Title I school receiving federal funding. The code blocks below filter each dataframe for only the variables of interest."
   ]
  },
  {
   "cell_type": "code",
   "execution_count": 321,
   "id": "82df8ced-ed54-4ac8-9291-2e5f3c1b8597",
   "metadata": {},
   "outputs": [],
   "source": [
    "school_information = school_information[\n",
    "    ['SCHOOL_YEAR', 'NCESSCH', 'LSTATE', 'LZIP', 'SCH_TYPE_TEXT', 'LEVEL', 'CHARTER_TEXT']\n",
    "]"
   ]
  },
  {
   "cell_type": "code",
   "execution_count": 322,
   "id": "1b40aa6c-1837-4903-8ce6-07071a4eb299",
   "metadata": {},
   "outputs": [],
   "source": [
    "school_characteristics = school_characteristics[\n",
    "    ['NCESSCH', 'TITLEI_STATUS_TEXT']\n",
    "]"
   ]
  },
  {
   "cell_type": "markdown",
   "id": "bde045f6-d011-4115-81af-f4fce4f9c956",
   "metadata": {},
   "source": [
    "All of the columns within the EdGap data, however, represent variables of interest that will be necessary to examine later. Additionally, each of the three dataframes will require renaming the columns for greater readability."
   ]
  },
  {
   "cell_type": "code",
   "execution_count": 323,
   "id": "1e862a81-fe0d-49d7-bf5b-1b2bb99d0288",
   "metadata": {},
   "outputs": [],
   "source": [
    "edgap = edgap.rename(\n",
    "    columns={\n",
    "        'NCESSCH School ID': 'school_id',\n",
    "        'CT Pct Adults with College Degree': 'percent_college',\n",
    "        'CT Unemployment Rate': 'rate_unemployment',\n",
    "        'CT Pct Childre In Married Couple Family': 'percent_married',\n",
    "        'CT Median Household Income': 'median_income',\n",
    "        'School ACT average (or equivalent if SAT score)': 'average_act',\n",
    "        'School Pct Free and Reduced Lunch': 'percent_lunch',\n",
    "    }\n",
    ")"
   ]
  },
  {
   "cell_type": "code",
   "execution_count": 324,
   "id": "2bc61162-7d7b-4f1e-bdf2-3153a884ba9f",
   "metadata": {},
   "outputs": [],
   "source": [
    "school_information = school_information.rename(\n",
    "    columns={\n",
    "        'SCHOOL_YEAR': 'year',\n",
    "        'NCESSCH': 'school_id',\n",
    "        'LSTATE': 'state',\n",
    "        'LZIP': 'zip_code',\n",
    "        'SCH_TYPE_TEXT': 'school_type',\n",
    "        'LEVEL': 'school_level',\n",
    "        'CHARTER_TEXT': 'charter'\n",
    "    }\n",
    ")"
   ]
  },
  {
   "cell_type": "code",
   "execution_count": 325,
   "id": "b83cf731-b9d6-497d-abcb-d05e60522f13",
   "metadata": {},
   "outputs": [],
   "source": [
    "school_characteristics = school_characteristics.rename(\n",
    "    columns={\n",
    "        'NCESSCH': 'school_id',\n",
    "        'TITLEI_STATUS_TEXT': 'title_i_status'\n",
    "    }\n",
    ")"
   ]
  },
  {
   "cell_type": "markdown",
   "id": "34393945-5eb1-4f9e-bc2a-d4bc4c8ac5f2",
   "metadata": {},
   "source": [
    "Each dataset is now renamed for greater readability. Note first that the education gap data specifies that its data on percent of adults with a college degree, unemployment rate, percent of children from married families, and median household income are all derived from census data. This data does not necessarily reflect the realities of the children within the schools from the dataset.\n",
    "\n",
    "Additionally, note that each dataset contained a NCES ID code for each school within their respective dataframe. By matching the column names, the data can be merged between the three based on this shared column. Prior to this, however, each column will have to possess the same data type across the three sets."
   ]
  },
  {
   "cell_type": "code",
   "execution_count": 326,
   "id": "8dcc8021-444e-46c2-90e9-054bb29a5178",
   "metadata": {},
   "outputs": [],
   "source": [
    "#using identity of the school as the key (NCESSCH); its values are objects in edgap and floats in school information\n",
    "school_information['school_id'] = school_information['school_id'].astype('object') #changing data type to object"
   ]
  },
  {
   "cell_type": "code",
   "execution_count": 327,
   "id": "ef4b0e4a-2e0f-480e-8f7a-33dd23aa0479",
   "metadata": {},
   "outputs": [],
   "source": [
    "school_characteristics['school_id'] = school_characteristics['school_id'].astype('object')"
   ]
  },
  {
   "cell_type": "markdown",
   "id": "6353ffcc-800e-466a-874a-5dd83dd0cecd",
   "metadata": {},
   "source": [
    "The three dataframes now contain exclusively objects within the column ``school_id`` and can now be merged."
   ]
  },
  {
   "cell_type": "markdown",
   "id": "7051388d-a4c5-4194-8f39-0470194977c6",
   "metadata": {},
   "source": [
    "## Join dataframes"
   ]
  },
  {
   "cell_type": "markdown",
   "id": "5d2eabd0-d2fe-4a94-a39e-fe8a200f95a3",
   "metadata": {},
   "source": [
    "First, a left join will be performed to merge the two NCES datasets. The join will lose data on around 2,000 schools from the ``school_information`` dataset. "
   ]
  },
  {
   "cell_type": "code",
   "execution_count": 328,
   "id": "0542a5cb-4eac-4d8e-9edf-12f3dcfdc16f",
   "metadata": {},
   "outputs": [],
   "source": [
    "school_info = school_characteristics.merge(\n",
    "    school_information,\n",
    "    how='left',\n",
    "    on='school_id'\n",
    ")"
   ]
  },
  {
   "cell_type": "code",
   "execution_count": 329,
   "id": "84f95ec5-87e2-46f2-b1df-c079aaf774f3",
   "metadata": {},
   "outputs": [
    {
     "data": {
      "text/html": [
       "<div>\n",
       "<style scoped>\n",
       "    .dataframe tbody tr th:only-of-type {\n",
       "        vertical-align: middle;\n",
       "    }\n",
       "\n",
       "    .dataframe tbody tr th {\n",
       "        vertical-align: top;\n",
       "    }\n",
       "\n",
       "    .dataframe thead th {\n",
       "        text-align: right;\n",
       "    }\n",
       "</style>\n",
       "<table border=\"1\" class=\"dataframe\">\n",
       "  <thead>\n",
       "    <tr style=\"text-align: right;\">\n",
       "      <th></th>\n",
       "      <th>school_id</th>\n",
       "      <th>title_i_status</th>\n",
       "      <th>year</th>\n",
       "      <th>state</th>\n",
       "      <th>zip_code</th>\n",
       "      <th>school_type</th>\n",
       "      <th>school_level</th>\n",
       "      <th>charter</th>\n",
       "    </tr>\n",
       "  </thead>\n",
       "  <tbody>\n",
       "    <tr>\n",
       "      <th>0</th>\n",
       "      <td>10000200277</td>\n",
       "      <td>Not a Title I school</td>\n",
       "      <td>2016-2017</td>\n",
       "      <td>AL</td>\n",
       "      <td>35220</td>\n",
       "      <td>Alternative School</td>\n",
       "      <td>High</td>\n",
       "      <td>No</td>\n",
       "    </tr>\n",
       "    <tr>\n",
       "      <th>1</th>\n",
       "      <td>10000201667</td>\n",
       "      <td>Not a Title I school</td>\n",
       "      <td>2016-2017</td>\n",
       "      <td>AL</td>\n",
       "      <td>36067</td>\n",
       "      <td>Alternative School</td>\n",
       "      <td>High</td>\n",
       "      <td>No</td>\n",
       "    </tr>\n",
       "    <tr>\n",
       "      <th>2</th>\n",
       "      <td>10000201670</td>\n",
       "      <td>Not a Title I school</td>\n",
       "      <td>2016-2017</td>\n",
       "      <td>AL</td>\n",
       "      <td>36784</td>\n",
       "      <td>Alternative School</td>\n",
       "      <td>High</td>\n",
       "      <td>No</td>\n",
       "    </tr>\n",
       "    <tr>\n",
       "      <th>3</th>\n",
       "      <td>10000201705</td>\n",
       "      <td>Not a Title I school</td>\n",
       "      <td>2016-2017</td>\n",
       "      <td>AL</td>\n",
       "      <td>36057</td>\n",
       "      <td>Alternative School</td>\n",
       "      <td>High</td>\n",
       "      <td>No</td>\n",
       "    </tr>\n",
       "    <tr>\n",
       "      <th>4</th>\n",
       "      <td>10000201706</td>\n",
       "      <td>Not a Title I school</td>\n",
       "      <td>2016-2017</td>\n",
       "      <td>AL</td>\n",
       "      <td>35206</td>\n",
       "      <td>Alternative School</td>\n",
       "      <td>High</td>\n",
       "      <td>No</td>\n",
       "    </tr>\n",
       "  </tbody>\n",
       "</table>\n",
       "</div>"
      ],
      "text/plain": [
       "     school_id        title_i_status       year state zip_code  \\\n",
       "0  10000200277  Not a Title I school  2016-2017    AL    35220   \n",
       "1  10000201667  Not a Title I school  2016-2017    AL    36067   \n",
       "2  10000201670  Not a Title I school  2016-2017    AL    36784   \n",
       "3  10000201705  Not a Title I school  2016-2017    AL    36057   \n",
       "4  10000201706  Not a Title I school  2016-2017    AL    35206   \n",
       "\n",
       "          school_type school_level charter  \n",
       "0  Alternative School         High      No  \n",
       "1  Alternative School         High      No  \n",
       "2  Alternative School         High      No  \n",
       "3  Alternative School         High      No  \n",
       "4  Alternative School         High      No  "
      ]
     },
     "execution_count": 329,
     "metadata": {},
     "output_type": "execute_result"
    }
   ],
   "source": [
    "school_info.head()"
   ]
  },
  {
   "cell_type": "markdown",
   "id": "ec4c1e30-9841-46e5-ba52-3c35645e2f0e",
   "metadata": {},
   "source": [
    "With the NCES datasets successfully merged, a second left join is performed to combine this new school_info dataframe with the education gap data."
   ]
  },
  {
   "cell_type": "code",
   "execution_count": 330,
   "id": "c06ce078-da78-44f2-a934-0001cd298e49",
   "metadata": {},
   "outputs": [],
   "source": [
    "df = edgap.merge(\n",
    "    school_info,\n",
    "    how='left',\n",
    "    on='school_id'\n",
    ")"
   ]
  },
  {
   "cell_type": "code",
   "execution_count": 331,
   "id": "a44c0b61-75ab-432f-900f-b5f182f25ae7",
   "metadata": {},
   "outputs": [
    {
     "name": "stdout",
     "output_type": "stream",
     "text": [
      "<class 'pandas.core.frame.DataFrame'>\n",
      "RangeIndex: 7986 entries, 0 to 7985\n",
      "Data columns (total 14 columns):\n",
      " #   Column             Non-Null Count  Dtype  \n",
      "---  ------             --------------  -----  \n",
      " 0   school_id          7986 non-null   object \n",
      " 1   rate_unemployment  7972 non-null   float64\n",
      " 2   percent_college    7973 non-null   float64\n",
      " 3   percent_married    7961 non-null   float64\n",
      " 4   median_income      7966 non-null   float64\n",
      " 5   average_act        7986 non-null   float64\n",
      " 6   percent_lunch      7986 non-null   float64\n",
      " 7   title_i_status     7863 non-null   object \n",
      " 8   year               7863 non-null   object \n",
      " 9   state              7863 non-null   object \n",
      " 10  zip_code           7863 non-null   object \n",
      " 11  school_type        7863 non-null   object \n",
      " 12  school_level       7863 non-null   object \n",
      " 13  charter            7863 non-null   object \n",
      "dtypes: float64(6), object(8)\n",
      "memory usage: 873.6+ KB\n"
     ]
    }
   ],
   "source": [
    "df.info()"
   ]
  },
  {
   "cell_type": "markdown",
   "id": "2461867c-ef10-4713-a434-00efd3777056",
   "metadata": {},
   "source": [
    "The new dataframe ``df`` now contains all columns from the three dataframes. The data from ``school_info`` is now dramatically reduced to roughly 8,000 schools within the new dataframe. "
   ]
  },
  {
   "cell_type": "markdown",
   "id": "cc87d746-cf17-4300-9aa4-71238ea4d460",
   "metadata": {},
   "source": [
    "## Tidying new dataframe, assessing for missing values"
   ]
  },
  {
   "cell_type": "markdown",
   "id": "9454515c-ffaa-4a01-8835-272d15a18544",
   "metadata": {},
   "source": [
    "The code block below identifies strange aspects of the dataframe's numerical values and will seek to remove values that do not make sense within the context of what they are representing."
   ]
  },
  {
   "cell_type": "code",
   "execution_count": 332,
   "id": "7183edcc-ada5-42dd-819e-b1175b595055",
   "metadata": {},
   "outputs": [
    {
     "data": {
      "text/html": [
       "<div>\n",
       "<style scoped>\n",
       "    .dataframe tbody tr th:only-of-type {\n",
       "        vertical-align: middle;\n",
       "    }\n",
       "\n",
       "    .dataframe tbody tr th {\n",
       "        vertical-align: top;\n",
       "    }\n",
       "\n",
       "    .dataframe thead th {\n",
       "        text-align: right;\n",
       "    }\n",
       "</style>\n",
       "<table border=\"1\" class=\"dataframe\">\n",
       "  <thead>\n",
       "    <tr style=\"text-align: right;\">\n",
       "      <th></th>\n",
       "      <th>rate_unemployment</th>\n",
       "      <th>percent_college</th>\n",
       "      <th>percent_married</th>\n",
       "      <th>median_income</th>\n",
       "      <th>average_act</th>\n",
       "      <th>percent_lunch</th>\n",
       "    </tr>\n",
       "  </thead>\n",
       "  <tbody>\n",
       "    <tr>\n",
       "      <th>min</th>\n",
       "      <td>0.00</td>\n",
       "      <td>0.09</td>\n",
       "      <td>0.0</td>\n",
       "      <td>3589.0</td>\n",
       "      <td>-3.07</td>\n",
       "      <td>-0.05</td>\n",
       "    </tr>\n",
       "    <tr>\n",
       "      <th>max</th>\n",
       "      <td>0.59</td>\n",
       "      <td>1.00</td>\n",
       "      <td>1.0</td>\n",
       "      <td>226181.0</td>\n",
       "      <td>32.36</td>\n",
       "      <td>1.00</td>\n",
       "    </tr>\n",
       "  </tbody>\n",
       "</table>\n",
       "</div>"
      ],
      "text/plain": [
       "     rate_unemployment  percent_college  percent_married  median_income  \\\n",
       "min               0.00             0.09              0.0         3589.0   \n",
       "max               0.59             1.00              1.0       226181.0   \n",
       "\n",
       "     average_act  percent_lunch  \n",
       "min        -3.07          -0.05  \n",
       "max        32.36           1.00  "
      ]
     },
     "execution_count": 332,
     "metadata": {},
     "output_type": "execute_result"
    }
   ],
   "source": [
    "df.select_dtypes(include=['number']).agg(['min', 'max']).round(2)"
   ]
  },
  {
   "cell_type": "code",
   "execution_count": 333,
   "id": "a48bd876-906f-4098-a4a0-dcf00487fdfe",
   "metadata": {},
   "outputs": [],
   "source": [
    "df.loc[df['average_act'] < 1, 'average_act'] = np.nan"
   ]
  },
  {
   "cell_type": "code",
   "execution_count": 334,
   "id": "76db854a-1c28-4513-8e8b-3525606a40aa",
   "metadata": {},
   "outputs": [],
   "source": [
    "df.loc[df['percent_lunch'] < 0, 'percent_lunch'] = np.nan"
   ]
  },
  {
   "cell_type": "markdown",
   "id": "376162d5-d0ae-47c6-a236-286454286fde",
   "metadata": {},
   "source": [
    "The code first creates a table of min and max values for each numerical predictor variable from the dataframe. The percent lunch scores falling below 0 (which is impossible) and ACT scores falling below 1 (the lowest score one can earn on the ACT) are then removed and replaced with null values.\n",
    "\n",
    "Upon further inspection of the ``title_i_status`` and ``school_level`` columns, there are various entries that could either be removed or collapsed into a single designation. In the case of ``title_i_status``, there are both schools that did not report their status as well as multiple different desginations for a school that is eligible for Title I funding but does not necessarily receive it. For the sake of simplicity, these various designations will be put together in a single designation as a ``Title I schoolwide school``. \n",
    "\n",
    "For ``school_level``, there are multiple data points describing non-high schools in the data. This data will be removed in order to solely look at high schools, where students would reasonably be taking the ACT. "
   ]
  },
  {
   "cell_type": "code",
   "execution_count": 335,
   "id": "4c3f6d73-e4aa-44c8-b1eb-8835458371a4",
   "metadata": {},
   "outputs": [
    {
     "data": {
      "text/plain": [
       "title_i_status\n",
       "Not a Title I school                                               2240\n",
       "Title I schoolwide school                                          2151\n",
       "Title I schoolwide eligible school-No program                      1680\n",
       "Title I targeted assistance eligible school-No program              876\n",
       "Not reported                                                        589\n",
       "Title I targeted assistance school                                  290\n",
       "Title I schoolwide eligible-Title I targeted assistance program      36\n",
       "Missing                                                               1\n",
       "Name: count, dtype: int64"
      ]
     },
     "execution_count": 335,
     "metadata": {},
     "output_type": "execute_result"
    }
   ],
   "source": [
    "df['title_i_status'].value_counts()"
   ]
  },
  {
   "cell_type": "code",
   "execution_count": 336,
   "id": "3680abf8-b96f-4579-a724-3dd7d2e2878a",
   "metadata": {},
   "outputs": [],
   "source": [
    "df.loc[df['title_i_status'] == 'Not reported', 'title_i_status'] = np.nan\n",
    "df.loc[df['title_i_status'] == 'Missing', 'title_i_status'] = np.nan"
   ]
  },
  {
   "cell_type": "code",
   "execution_count": 337,
   "id": "c467f1c9-ffc4-450b-8ab5-c60e8226144c",
   "metadata": {},
   "outputs": [
    {
     "data": {
      "text/plain": [
       "title_i_status\n",
       "Not a Title I school                                               2240\n",
       "Title I schoolwide school                                          2151\n",
       "Title I schoolwide eligible school-No program                      1680\n",
       "Title I targeted assistance eligible school-No program              876\n",
       "Title I targeted assistance school                                  290\n",
       "Title I schoolwide eligible-Title I targeted assistance program      36\n",
       "Name: count, dtype: int64"
      ]
     },
     "execution_count": 337,
     "metadata": {},
     "output_type": "execute_result"
    }
   ],
   "source": [
    "df['title_i_status'].value_counts()"
   ]
  },
  {
   "cell_type": "code",
   "execution_count": 338,
   "id": "388d1342-26fa-4709-9074-b1bc9c257cd9",
   "metadata": {},
   "outputs": [],
   "source": [
    "df.loc[df['title_i_status'] == 'Title I schoolwide eligible school-No program', 'title_i_status'] = 'Title I schoolwide school' \n",
    "df.loc[df['title_i_status'] == 'Title I targeted assistance eligible school-No program', 'title_i_status'] = 'Title I schoolwide school' \n",
    "df.loc[df['title_i_status'] == 'Title I targeted assistance school', 'title_i_status'] = 'Title I schoolwide school' \n",
    "df.loc[df['title_i_status'] == 'Title I schoolwide eligible-Title I targeted assistance program', 'title_i_status'] = 'Title I schoolwide school' "
   ]
  },
  {
   "cell_type": "code",
   "execution_count": 339,
   "id": "ab886ca9-a277-4465-8c7f-9d7107ca1901",
   "metadata": {},
   "outputs": [
    {
     "data": {
      "text/plain": [
       "title_i_status\n",
       "Title I schoolwide school    5033\n",
       "Not a Title I school         2240\n",
       "Name: count, dtype: int64"
      ]
     },
     "execution_count": 339,
     "metadata": {},
     "output_type": "execute_result"
    }
   ],
   "source": [
    "df['title_i_status'].value_counts()"
   ]
  },
  {
   "cell_type": "code",
   "execution_count": 340,
   "id": "7e30075a-c073-4545-93b7-92569edfe31f",
   "metadata": {},
   "outputs": [
    {
     "data": {
      "text/plain": [
       "school_level\n",
       "High          7230\n",
       "Other          631\n",
       "Elementary       2\n",
       "Name: count, dtype: int64"
      ]
     },
     "execution_count": 340,
     "metadata": {},
     "output_type": "execute_result"
    }
   ],
   "source": [
    "df['school_level'].value_counts()"
   ]
  },
  {
   "cell_type": "code",
   "execution_count": 341,
   "id": "5357b740-64d3-499e-800b-782416f54f7c",
   "metadata": {},
   "outputs": [],
   "source": [
    "df = df.loc[df['school_level'] == 'High']"
   ]
  },
  {
   "cell_type": "markdown",
   "id": "916a9bfe-75cf-4f8c-9084-31abbc5c0d37",
   "metadata": {},
   "source": [
    "Following this process, there will still be null values in key columns such as those for average ACT score and those for Title I schools. The rows with missing values can then be dropped from the new dataframe to ensure only the schools with that information are maintained.|"
   ]
  },
  {
   "cell_type": "code",
   "execution_count": 342,
   "id": "f3b605b0-300a-44c9-8573-62d880b649d7",
   "metadata": {},
   "outputs": [
    {
     "data": {
      "text/html": [
       "<div>\n",
       "<style scoped>\n",
       "    .dataframe tbody tr th:only-of-type {\n",
       "        vertical-align: middle;\n",
       "    }\n",
       "\n",
       "    .dataframe tbody tr th {\n",
       "        vertical-align: top;\n",
       "    }\n",
       "\n",
       "    .dataframe thead th {\n",
       "        text-align: right;\n",
       "    }\n",
       "</style>\n",
       "<table border=\"1\" class=\"dataframe\">\n",
       "  <thead>\n",
       "    <tr style=\"text-align: right;\">\n",
       "      <th></th>\n",
       "      <th>Number of Missing Values</th>\n",
       "    </tr>\n",
       "  </thead>\n",
       "  <tbody>\n",
       "    <tr>\n",
       "      <th>school_id</th>\n",
       "      <td>0</td>\n",
       "    </tr>\n",
       "    <tr>\n",
       "      <th>rate_unemployment</th>\n",
       "      <td>12</td>\n",
       "    </tr>\n",
       "    <tr>\n",
       "      <th>percent_college</th>\n",
       "      <td>11</td>\n",
       "    </tr>\n",
       "    <tr>\n",
       "      <th>percent_married</th>\n",
       "      <td>20</td>\n",
       "    </tr>\n",
       "    <tr>\n",
       "      <th>median_income</th>\n",
       "      <td>16</td>\n",
       "    </tr>\n",
       "    <tr>\n",
       "      <th>average_act</th>\n",
       "      <td>3</td>\n",
       "    </tr>\n",
       "    <tr>\n",
       "      <th>percent_lunch</th>\n",
       "      <td>20</td>\n",
       "    </tr>\n",
       "    <tr>\n",
       "      <th>title_i_status</th>\n",
       "      <td>565</td>\n",
       "    </tr>\n",
       "    <tr>\n",
       "      <th>year</th>\n",
       "      <td>0</td>\n",
       "    </tr>\n",
       "    <tr>\n",
       "      <th>state</th>\n",
       "      <td>0</td>\n",
       "    </tr>\n",
       "    <tr>\n",
       "      <th>zip_code</th>\n",
       "      <td>0</td>\n",
       "    </tr>\n",
       "    <tr>\n",
       "      <th>school_type</th>\n",
       "      <td>0</td>\n",
       "    </tr>\n",
       "    <tr>\n",
       "      <th>school_level</th>\n",
       "      <td>0</td>\n",
       "    </tr>\n",
       "    <tr>\n",
       "      <th>charter</th>\n",
       "      <td>0</td>\n",
       "    </tr>\n",
       "  </tbody>\n",
       "</table>\n",
       "</div>"
      ],
      "text/plain": [
       "                   Number of Missing Values\n",
       "school_id                                 0\n",
       "rate_unemployment                        12\n",
       "percent_college                          11\n",
       "percent_married                          20\n",
       "median_income                            16\n",
       "average_act                               3\n",
       "percent_lunch                            20\n",
       "title_i_status                          565\n",
       "year                                      0\n",
       "state                                     0\n",
       "zip_code                                  0\n",
       "school_type                               0\n",
       "school_level                              0\n",
       "charter                                   0"
      ]
     },
     "execution_count": 342,
     "metadata": {},
     "output_type": "execute_result"
    }
   ],
   "source": [
    "df.isna().sum().to_frame(name='Number of Missing Values')"
   ]
  },
  {
   "cell_type": "code",
   "execution_count": 343,
   "id": "60e557c5-f05e-46b2-81f6-8ac407ce46d4",
   "metadata": {},
   "outputs": [],
   "source": [
    "df = df.dropna(subset=['average_act'])\n",
    "df = df.dropna(subset=['title_i_status'])#gets rid of missing act values"
   ]
  },
  {
   "cell_type": "markdown",
   "id": "e00858af-e53f-466d-a07f-2666102bcba8",
   "metadata": {},
   "source": [
    "## Impute missing values"
   ]
  },
  {
   "cell_type": "markdown",
   "id": "1426cc38-4fe4-4131-9f01-965bc6b7d6f2",
   "metadata": {},
   "source": [
    "Below, all of the columns of predictor variables for the dataframe will be defined by a list referred to as ``predictor_variables``. They will then be subdivided even further into ``numerical_predictors``, representing the all of the predictor variables representing numerical values.\n",
    "\n",
    "In order to impute values for the missing numerical data, the Iterative Imputer will be imported using the toolkit scikit-learn. The Iterative Imputer will act upon all of the ``numerical_predictors`` and fill each missing value based on the relative relationship between these predictors. The values will then be data points that follow the natural distribution of values for each predictor."
   ]
  },
  {
   "cell_type": "code",
   "execution_count": 344,
   "id": "b3af19bf-0aab-4f5a-9f18-09c5c330d4a0",
   "metadata": {},
   "outputs": [],
   "source": [
    "predictor_variables = [\n",
    "    'rate_unemployment',\n",
    "    'percent_college',\n",
    "    'percent_married',\n",
    "    'median_income',\n",
    "    'percent_lunch',\n",
    "    'state',\n",
    "    'charter',\n",
    "    'title_i_status'\n",
    "]"
   ]
  },
  {
   "cell_type": "code",
   "execution_count": 345,
   "id": "67eed0ac-e875-4857-905d-0a797829b003",
   "metadata": {},
   "outputs": [],
   "source": [
    "from sklearn.experimental import enable_iterative_imputer\n",
    "from sklearn.impute import IterativeImputer"
   ]
  },
  {
   "cell_type": "code",
   "execution_count": 346,
   "id": "3bb7ca73-7cfa-4e52-94f6-6cfe29e17dfa",
   "metadata": {},
   "outputs": [],
   "source": [
    "imputer = IterativeImputer()"
   ]
  },
  {
   "cell_type": "code",
   "execution_count": 347,
   "id": "471434f2-5890-4c48-9df9-c2dd71add990",
   "metadata": {},
   "outputs": [
    {
     "name": "stdout",
     "output_type": "stream",
     "text": [
      "['rate_unemployment', 'percent_college', 'percent_married', 'median_income', 'percent_lunch']\n"
     ]
    }
   ],
   "source": [
    "numerical_predictors = df[predictor_variables].select_dtypes(include='number').columns.to_list()\n",
    "print(numerical_predictors)"
   ]
  },
  {
   "cell_type": "code",
   "execution_count": 348,
   "id": "39e67876-3038-46b7-99ba-cc54414fa7e0",
   "metadata": {},
   "outputs": [
    {
     "data": {
      "text/html": [
       "<style>#sk-container-id-3 {\n",
       "  /* Definition of color scheme common for light and dark mode */\n",
       "  --sklearn-color-text: #000;\n",
       "  --sklearn-color-text-muted: #666;\n",
       "  --sklearn-color-line: gray;\n",
       "  /* Definition of color scheme for unfitted estimators */\n",
       "  --sklearn-color-unfitted-level-0: #fff5e6;\n",
       "  --sklearn-color-unfitted-level-1: #f6e4d2;\n",
       "  --sklearn-color-unfitted-level-2: #ffe0b3;\n",
       "  --sklearn-color-unfitted-level-3: chocolate;\n",
       "  /* Definition of color scheme for fitted estimators */\n",
       "  --sklearn-color-fitted-level-0: #f0f8ff;\n",
       "  --sklearn-color-fitted-level-1: #d4ebff;\n",
       "  --sklearn-color-fitted-level-2: #b3dbfd;\n",
       "  --sklearn-color-fitted-level-3: cornflowerblue;\n",
       "\n",
       "  /* Specific color for light theme */\n",
       "  --sklearn-color-text-on-default-background: var(--sg-text-color, var(--theme-code-foreground, var(--jp-content-font-color1, black)));\n",
       "  --sklearn-color-background: var(--sg-background-color, var(--theme-background, var(--jp-layout-color0, white)));\n",
       "  --sklearn-color-border-box: var(--sg-text-color, var(--theme-code-foreground, var(--jp-content-font-color1, black)));\n",
       "  --sklearn-color-icon: #696969;\n",
       "\n",
       "  @media (prefers-color-scheme: dark) {\n",
       "    /* Redefinition of color scheme for dark theme */\n",
       "    --sklearn-color-text-on-default-background: var(--sg-text-color, var(--theme-code-foreground, var(--jp-content-font-color1, white)));\n",
       "    --sklearn-color-background: var(--sg-background-color, var(--theme-background, var(--jp-layout-color0, #111)));\n",
       "    --sklearn-color-border-box: var(--sg-text-color, var(--theme-code-foreground, var(--jp-content-font-color1, white)));\n",
       "    --sklearn-color-icon: #878787;\n",
       "  }\n",
       "}\n",
       "\n",
       "#sk-container-id-3 {\n",
       "  color: var(--sklearn-color-text);\n",
       "}\n",
       "\n",
       "#sk-container-id-3 pre {\n",
       "  padding: 0;\n",
       "}\n",
       "\n",
       "#sk-container-id-3 input.sk-hidden--visually {\n",
       "  border: 0;\n",
       "  clip: rect(1px 1px 1px 1px);\n",
       "  clip: rect(1px, 1px, 1px, 1px);\n",
       "  height: 1px;\n",
       "  margin: -1px;\n",
       "  overflow: hidden;\n",
       "  padding: 0;\n",
       "  position: absolute;\n",
       "  width: 1px;\n",
       "}\n",
       "\n",
       "#sk-container-id-3 div.sk-dashed-wrapped {\n",
       "  border: 1px dashed var(--sklearn-color-line);\n",
       "  margin: 0 0.4em 0.5em 0.4em;\n",
       "  box-sizing: border-box;\n",
       "  padding-bottom: 0.4em;\n",
       "  background-color: var(--sklearn-color-background);\n",
       "}\n",
       "\n",
       "#sk-container-id-3 div.sk-container {\n",
       "  /* jupyter's `normalize.less` sets `[hidden] { display: none; }`\n",
       "     but bootstrap.min.css set `[hidden] { display: none !important; }`\n",
       "     so we also need the `!important` here to be able to override the\n",
       "     default hidden behavior on the sphinx rendered scikit-learn.org.\n",
       "     See: https://github.com/scikit-learn/scikit-learn/issues/21755 */\n",
       "  display: inline-block !important;\n",
       "  position: relative;\n",
       "}\n",
       "\n",
       "#sk-container-id-3 div.sk-text-repr-fallback {\n",
       "  display: none;\n",
       "}\n",
       "\n",
       "div.sk-parallel-item,\n",
       "div.sk-serial,\n",
       "div.sk-item {\n",
       "  /* draw centered vertical line to link estimators */\n",
       "  background-image: linear-gradient(var(--sklearn-color-text-on-default-background), var(--sklearn-color-text-on-default-background));\n",
       "  background-size: 2px 100%;\n",
       "  background-repeat: no-repeat;\n",
       "  background-position: center center;\n",
       "}\n",
       "\n",
       "/* Parallel-specific style estimator block */\n",
       "\n",
       "#sk-container-id-3 div.sk-parallel-item::after {\n",
       "  content: \"\";\n",
       "  width: 100%;\n",
       "  border-bottom: 2px solid var(--sklearn-color-text-on-default-background);\n",
       "  flex-grow: 1;\n",
       "}\n",
       "\n",
       "#sk-container-id-3 div.sk-parallel {\n",
       "  display: flex;\n",
       "  align-items: stretch;\n",
       "  justify-content: center;\n",
       "  background-color: var(--sklearn-color-background);\n",
       "  position: relative;\n",
       "}\n",
       "\n",
       "#sk-container-id-3 div.sk-parallel-item {\n",
       "  display: flex;\n",
       "  flex-direction: column;\n",
       "}\n",
       "\n",
       "#sk-container-id-3 div.sk-parallel-item:first-child::after {\n",
       "  align-self: flex-end;\n",
       "  width: 50%;\n",
       "}\n",
       "\n",
       "#sk-container-id-3 div.sk-parallel-item:last-child::after {\n",
       "  align-self: flex-start;\n",
       "  width: 50%;\n",
       "}\n",
       "\n",
       "#sk-container-id-3 div.sk-parallel-item:only-child::after {\n",
       "  width: 0;\n",
       "}\n",
       "\n",
       "/* Serial-specific style estimator block */\n",
       "\n",
       "#sk-container-id-3 div.sk-serial {\n",
       "  display: flex;\n",
       "  flex-direction: column;\n",
       "  align-items: center;\n",
       "  background-color: var(--sklearn-color-background);\n",
       "  padding-right: 1em;\n",
       "  padding-left: 1em;\n",
       "}\n",
       "\n",
       "\n",
       "/* Toggleable style: style used for estimator/Pipeline/ColumnTransformer box that is\n",
       "clickable and can be expanded/collapsed.\n",
       "- Pipeline and ColumnTransformer use this feature and define the default style\n",
       "- Estimators will overwrite some part of the style using the `sk-estimator` class\n",
       "*/\n",
       "\n",
       "/* Pipeline and ColumnTransformer style (default) */\n",
       "\n",
       "#sk-container-id-3 div.sk-toggleable {\n",
       "  /* Default theme specific background. It is overwritten whether we have a\n",
       "  specific estimator or a Pipeline/ColumnTransformer */\n",
       "  background-color: var(--sklearn-color-background);\n",
       "}\n",
       "\n",
       "/* Toggleable label */\n",
       "#sk-container-id-3 label.sk-toggleable__label {\n",
       "  cursor: pointer;\n",
       "  display: flex;\n",
       "  width: 100%;\n",
       "  margin-bottom: 0;\n",
       "  padding: 0.5em;\n",
       "  box-sizing: border-box;\n",
       "  text-align: center;\n",
       "  align-items: start;\n",
       "  justify-content: space-between;\n",
       "  gap: 0.5em;\n",
       "}\n",
       "\n",
       "#sk-container-id-3 label.sk-toggleable__label .caption {\n",
       "  font-size: 0.6rem;\n",
       "  font-weight: lighter;\n",
       "  color: var(--sklearn-color-text-muted);\n",
       "}\n",
       "\n",
       "#sk-container-id-3 label.sk-toggleable__label-arrow:before {\n",
       "  /* Arrow on the left of the label */\n",
       "  content: \"▸\";\n",
       "  float: left;\n",
       "  margin-right: 0.25em;\n",
       "  color: var(--sklearn-color-icon);\n",
       "}\n",
       "\n",
       "#sk-container-id-3 label.sk-toggleable__label-arrow:hover:before {\n",
       "  color: var(--sklearn-color-text);\n",
       "}\n",
       "\n",
       "/* Toggleable content - dropdown */\n",
       "\n",
       "#sk-container-id-3 div.sk-toggleable__content {\n",
       "  max-height: 0;\n",
       "  max-width: 0;\n",
       "  overflow: hidden;\n",
       "  text-align: left;\n",
       "  /* unfitted */\n",
       "  background-color: var(--sklearn-color-unfitted-level-0);\n",
       "}\n",
       "\n",
       "#sk-container-id-3 div.sk-toggleable__content.fitted {\n",
       "  /* fitted */\n",
       "  background-color: var(--sklearn-color-fitted-level-0);\n",
       "}\n",
       "\n",
       "#sk-container-id-3 div.sk-toggleable__content pre {\n",
       "  margin: 0.2em;\n",
       "  border-radius: 0.25em;\n",
       "  color: var(--sklearn-color-text);\n",
       "  /* unfitted */\n",
       "  background-color: var(--sklearn-color-unfitted-level-0);\n",
       "}\n",
       "\n",
       "#sk-container-id-3 div.sk-toggleable__content.fitted pre {\n",
       "  /* unfitted */\n",
       "  background-color: var(--sklearn-color-fitted-level-0);\n",
       "}\n",
       "\n",
       "#sk-container-id-3 input.sk-toggleable__control:checked~div.sk-toggleable__content {\n",
       "  /* Expand drop-down */\n",
       "  max-height: 200px;\n",
       "  max-width: 100%;\n",
       "  overflow: auto;\n",
       "}\n",
       "\n",
       "#sk-container-id-3 input.sk-toggleable__control:checked~label.sk-toggleable__label-arrow:before {\n",
       "  content: \"▾\";\n",
       "}\n",
       "\n",
       "/* Pipeline/ColumnTransformer-specific style */\n",
       "\n",
       "#sk-container-id-3 div.sk-label input.sk-toggleable__control:checked~label.sk-toggleable__label {\n",
       "  color: var(--sklearn-color-text);\n",
       "  background-color: var(--sklearn-color-unfitted-level-2);\n",
       "}\n",
       "\n",
       "#sk-container-id-3 div.sk-label.fitted input.sk-toggleable__control:checked~label.sk-toggleable__label {\n",
       "  background-color: var(--sklearn-color-fitted-level-2);\n",
       "}\n",
       "\n",
       "/* Estimator-specific style */\n",
       "\n",
       "/* Colorize estimator box */\n",
       "#sk-container-id-3 div.sk-estimator input.sk-toggleable__control:checked~label.sk-toggleable__label {\n",
       "  /* unfitted */\n",
       "  background-color: var(--sklearn-color-unfitted-level-2);\n",
       "}\n",
       "\n",
       "#sk-container-id-3 div.sk-estimator.fitted input.sk-toggleable__control:checked~label.sk-toggleable__label {\n",
       "  /* fitted */\n",
       "  background-color: var(--sklearn-color-fitted-level-2);\n",
       "}\n",
       "\n",
       "#sk-container-id-3 div.sk-label label.sk-toggleable__label,\n",
       "#sk-container-id-3 div.sk-label label {\n",
       "  /* The background is the default theme color */\n",
       "  color: var(--sklearn-color-text-on-default-background);\n",
       "}\n",
       "\n",
       "/* On hover, darken the color of the background */\n",
       "#sk-container-id-3 div.sk-label:hover label.sk-toggleable__label {\n",
       "  color: var(--sklearn-color-text);\n",
       "  background-color: var(--sklearn-color-unfitted-level-2);\n",
       "}\n",
       "\n",
       "/* Label box, darken color on hover, fitted */\n",
       "#sk-container-id-3 div.sk-label.fitted:hover label.sk-toggleable__label.fitted {\n",
       "  color: var(--sklearn-color-text);\n",
       "  background-color: var(--sklearn-color-fitted-level-2);\n",
       "}\n",
       "\n",
       "/* Estimator label */\n",
       "\n",
       "#sk-container-id-3 div.sk-label label {\n",
       "  font-family: monospace;\n",
       "  font-weight: bold;\n",
       "  display: inline-block;\n",
       "  line-height: 1.2em;\n",
       "}\n",
       "\n",
       "#sk-container-id-3 div.sk-label-container {\n",
       "  text-align: center;\n",
       "}\n",
       "\n",
       "/* Estimator-specific */\n",
       "#sk-container-id-3 div.sk-estimator {\n",
       "  font-family: monospace;\n",
       "  border: 1px dotted var(--sklearn-color-border-box);\n",
       "  border-radius: 0.25em;\n",
       "  box-sizing: border-box;\n",
       "  margin-bottom: 0.5em;\n",
       "  /* unfitted */\n",
       "  background-color: var(--sklearn-color-unfitted-level-0);\n",
       "}\n",
       "\n",
       "#sk-container-id-3 div.sk-estimator.fitted {\n",
       "  /* fitted */\n",
       "  background-color: var(--sklearn-color-fitted-level-0);\n",
       "}\n",
       "\n",
       "/* on hover */\n",
       "#sk-container-id-3 div.sk-estimator:hover {\n",
       "  /* unfitted */\n",
       "  background-color: var(--sklearn-color-unfitted-level-2);\n",
       "}\n",
       "\n",
       "#sk-container-id-3 div.sk-estimator.fitted:hover {\n",
       "  /* fitted */\n",
       "  background-color: var(--sklearn-color-fitted-level-2);\n",
       "}\n",
       "\n",
       "/* Specification for estimator info (e.g. \"i\" and \"?\") */\n",
       "\n",
       "/* Common style for \"i\" and \"?\" */\n",
       "\n",
       ".sk-estimator-doc-link,\n",
       "a:link.sk-estimator-doc-link,\n",
       "a:visited.sk-estimator-doc-link {\n",
       "  float: right;\n",
       "  font-size: smaller;\n",
       "  line-height: 1em;\n",
       "  font-family: monospace;\n",
       "  background-color: var(--sklearn-color-background);\n",
       "  border-radius: 1em;\n",
       "  height: 1em;\n",
       "  width: 1em;\n",
       "  text-decoration: none !important;\n",
       "  margin-left: 0.5em;\n",
       "  text-align: center;\n",
       "  /* unfitted */\n",
       "  border: var(--sklearn-color-unfitted-level-1) 1pt solid;\n",
       "  color: var(--sklearn-color-unfitted-level-1);\n",
       "}\n",
       "\n",
       ".sk-estimator-doc-link.fitted,\n",
       "a:link.sk-estimator-doc-link.fitted,\n",
       "a:visited.sk-estimator-doc-link.fitted {\n",
       "  /* fitted */\n",
       "  border: var(--sklearn-color-fitted-level-1) 1pt solid;\n",
       "  color: var(--sklearn-color-fitted-level-1);\n",
       "}\n",
       "\n",
       "/* On hover */\n",
       "div.sk-estimator:hover .sk-estimator-doc-link:hover,\n",
       ".sk-estimator-doc-link:hover,\n",
       "div.sk-label-container:hover .sk-estimator-doc-link:hover,\n",
       ".sk-estimator-doc-link:hover {\n",
       "  /* unfitted */\n",
       "  background-color: var(--sklearn-color-unfitted-level-3);\n",
       "  color: var(--sklearn-color-background);\n",
       "  text-decoration: none;\n",
       "}\n",
       "\n",
       "div.sk-estimator.fitted:hover .sk-estimator-doc-link.fitted:hover,\n",
       ".sk-estimator-doc-link.fitted:hover,\n",
       "div.sk-label-container:hover .sk-estimator-doc-link.fitted:hover,\n",
       ".sk-estimator-doc-link.fitted:hover {\n",
       "  /* fitted */\n",
       "  background-color: var(--sklearn-color-fitted-level-3);\n",
       "  color: var(--sklearn-color-background);\n",
       "  text-decoration: none;\n",
       "}\n",
       "\n",
       "/* Span, style for the box shown on hovering the info icon */\n",
       ".sk-estimator-doc-link span {\n",
       "  display: none;\n",
       "  z-index: 9999;\n",
       "  position: relative;\n",
       "  font-weight: normal;\n",
       "  right: .2ex;\n",
       "  padding: .5ex;\n",
       "  margin: .5ex;\n",
       "  width: min-content;\n",
       "  min-width: 20ex;\n",
       "  max-width: 50ex;\n",
       "  color: var(--sklearn-color-text);\n",
       "  box-shadow: 2pt 2pt 4pt #999;\n",
       "  /* unfitted */\n",
       "  background: var(--sklearn-color-unfitted-level-0);\n",
       "  border: .5pt solid var(--sklearn-color-unfitted-level-3);\n",
       "}\n",
       "\n",
       ".sk-estimator-doc-link.fitted span {\n",
       "  /* fitted */\n",
       "  background: var(--sklearn-color-fitted-level-0);\n",
       "  border: var(--sklearn-color-fitted-level-3);\n",
       "}\n",
       "\n",
       ".sk-estimator-doc-link:hover span {\n",
       "  display: block;\n",
       "}\n",
       "\n",
       "/* \"?\"-specific style due to the `<a>` HTML tag */\n",
       "\n",
       "#sk-container-id-3 a.estimator_doc_link {\n",
       "  float: right;\n",
       "  font-size: 1rem;\n",
       "  line-height: 1em;\n",
       "  font-family: monospace;\n",
       "  background-color: var(--sklearn-color-background);\n",
       "  border-radius: 1rem;\n",
       "  height: 1rem;\n",
       "  width: 1rem;\n",
       "  text-decoration: none;\n",
       "  /* unfitted */\n",
       "  color: var(--sklearn-color-unfitted-level-1);\n",
       "  border: var(--sklearn-color-unfitted-level-1) 1pt solid;\n",
       "}\n",
       "\n",
       "#sk-container-id-3 a.estimator_doc_link.fitted {\n",
       "  /* fitted */\n",
       "  border: var(--sklearn-color-fitted-level-1) 1pt solid;\n",
       "  color: var(--sklearn-color-fitted-level-1);\n",
       "}\n",
       "\n",
       "/* On hover */\n",
       "#sk-container-id-3 a.estimator_doc_link:hover {\n",
       "  /* unfitted */\n",
       "  background-color: var(--sklearn-color-unfitted-level-3);\n",
       "  color: var(--sklearn-color-background);\n",
       "  text-decoration: none;\n",
       "}\n",
       "\n",
       "#sk-container-id-3 a.estimator_doc_link.fitted:hover {\n",
       "  /* fitted */\n",
       "  background-color: var(--sklearn-color-fitted-level-3);\n",
       "}\n",
       "</style><div id=\"sk-container-id-3\" class=\"sk-top-container\"><div class=\"sk-text-repr-fallback\"><pre>IterativeImputer()</pre><b>In a Jupyter environment, please rerun this cell to show the HTML representation or trust the notebook. <br />On GitHub, the HTML representation is unable to render, please try loading this page with nbviewer.org.</b></div><div class=\"sk-container\" hidden><div class=\"sk-item\"><div class=\"sk-estimator fitted sk-toggleable\"><input class=\"sk-toggleable__control sk-hidden--visually\" id=\"sk-estimator-id-3\" type=\"checkbox\" checked><label for=\"sk-estimator-id-3\" class=\"sk-toggleable__label fitted sk-toggleable__label-arrow\"><div><div>IterativeImputer</div></div><div><a class=\"sk-estimator-doc-link fitted\" rel=\"noreferrer\" target=\"_blank\" href=\"https://scikit-learn.org/1.6/modules/generated/sklearn.impute.IterativeImputer.html\">?<span>Documentation for IterativeImputer</span></a><span class=\"sk-estimator-doc-link fitted\">i<span>Fitted</span></span></div></label><div class=\"sk-toggleable__content fitted\"><pre>IterativeImputer()</pre></div> </div></div></div></div>"
      ],
      "text/plain": [
       "IterativeImputer()"
      ]
     },
     "execution_count": 348,
     "metadata": {},
     "output_type": "execute_result"
    }
   ],
   "source": [
    "imputer.fit(df.loc[:, numerical_predictors])"
   ]
  },
  {
   "cell_type": "code",
   "execution_count": 349,
   "id": "94051798-2a72-4eff-b266-35d51bf99269",
   "metadata": {},
   "outputs": [],
   "source": [
    "df.loc[:, numerical_predictors] = imputer.transform(df.loc[:, numerical_predictors])"
   ]
  },
  {
   "cell_type": "code",
   "execution_count": 350,
   "id": "fa417649-20a0-4c72-9516-94c7fe5b3f72",
   "metadata": {},
   "outputs": [
    {
     "data": {
      "text/html": [
       "<div>\n",
       "<style scoped>\n",
       "    .dataframe tbody tr th:only-of-type {\n",
       "        vertical-align: middle;\n",
       "    }\n",
       "\n",
       "    .dataframe tbody tr th {\n",
       "        vertical-align: top;\n",
       "    }\n",
       "\n",
       "    .dataframe thead th {\n",
       "        text-align: right;\n",
       "    }\n",
       "</style>\n",
       "<table border=\"1\" class=\"dataframe\">\n",
       "  <thead>\n",
       "    <tr style=\"text-align: right;\">\n",
       "      <th></th>\n",
       "      <th>Number of Missing Values</th>\n",
       "    </tr>\n",
       "  </thead>\n",
       "  <tbody>\n",
       "    <tr>\n",
       "      <th>school_id</th>\n",
       "      <td>0</td>\n",
       "    </tr>\n",
       "    <tr>\n",
       "      <th>rate_unemployment</th>\n",
       "      <td>0</td>\n",
       "    </tr>\n",
       "    <tr>\n",
       "      <th>percent_college</th>\n",
       "      <td>0</td>\n",
       "    </tr>\n",
       "    <tr>\n",
       "      <th>percent_married</th>\n",
       "      <td>0</td>\n",
       "    </tr>\n",
       "    <tr>\n",
       "      <th>median_income</th>\n",
       "      <td>0</td>\n",
       "    </tr>\n",
       "    <tr>\n",
       "      <th>average_act</th>\n",
       "      <td>0</td>\n",
       "    </tr>\n",
       "    <tr>\n",
       "      <th>percent_lunch</th>\n",
       "      <td>0</td>\n",
       "    </tr>\n",
       "    <tr>\n",
       "      <th>title_i_status</th>\n",
       "      <td>0</td>\n",
       "    </tr>\n",
       "    <tr>\n",
       "      <th>year</th>\n",
       "      <td>0</td>\n",
       "    </tr>\n",
       "    <tr>\n",
       "      <th>state</th>\n",
       "      <td>0</td>\n",
       "    </tr>\n",
       "    <tr>\n",
       "      <th>zip_code</th>\n",
       "      <td>0</td>\n",
       "    </tr>\n",
       "    <tr>\n",
       "      <th>school_type</th>\n",
       "      <td>0</td>\n",
       "    </tr>\n",
       "    <tr>\n",
       "      <th>school_level</th>\n",
       "      <td>0</td>\n",
       "    </tr>\n",
       "    <tr>\n",
       "      <th>charter</th>\n",
       "      <td>0</td>\n",
       "    </tr>\n",
       "  </tbody>\n",
       "</table>\n",
       "</div>"
      ],
      "text/plain": [
       "                   Number of Missing Values\n",
       "school_id                                 0\n",
       "rate_unemployment                         0\n",
       "percent_college                           0\n",
       "percent_married                           0\n",
       "median_income                             0\n",
       "average_act                               0\n",
       "percent_lunch                             0\n",
       "title_i_status                            0\n",
       "year                                      0\n",
       "state                                     0\n",
       "zip_code                                  0\n",
       "school_type                               0\n",
       "school_level                              0\n",
       "charter                                   0"
      ]
     },
     "execution_count": 350,
     "metadata": {},
     "output_type": "execute_result"
    }
   ],
   "source": [
    "df.isna().sum().to_frame(name='Number of Missing Values')"
   ]
  },
  {
   "cell_type": "markdown",
   "id": "c8c317e2-6492-4eb7-9e0b-79ee96a6bc82",
   "metadata": {},
   "source": [
    "With the Iterative Imputer successfully imputing missing values, there are now sufficient rows featuring all necessary data to be further investigated. The command below will export this cleaned dataframe into a csv file."
   ]
  },
  {
   "cell_type": "code",
   "execution_count": 351,
   "id": "0ff3f1fd-9d52-4d5b-9b4e-15133742c42e",
   "metadata": {},
   "outputs": [],
   "source": [
    "df.to_csv(\n",
    "    'education_data_clean.csv',\n",
    "    encoding='utf-8-sig',\n",
    "    index=False\n",
    ")"
   ]
  },
  {
   "cell_type": "markdown",
   "id": "01fef8ef-db1d-4ebd-b4fa-54a33707f3c4",
   "metadata": {},
   "source": [
    "## Exploratory data analysis"
   ]
  },
  {
   "cell_type": "markdown",
   "id": "56208839-8005-4ca6-8c69-45d37b464263",
   "metadata": {},
   "source": [
    "The code blocks below will import various tools from scikitlearn and statsmodels that will prove useful in analyzing and modeling the new dataframe based on its predictor variables. This new dataframe is established by importing the cleaned data from before."
   ]
  },
  {
   "cell_type": "code",
   "execution_count": 352,
   "id": "91d39e59-a1cb-4961-8e9d-5332a49590f5",
   "metadata": {},
   "outputs": [],
   "source": [
    "# Model preprocessing\n",
    "from sklearn.preprocessing import StandardScaler\n",
    "\n",
    "# Modeling\n",
    "import statsmodels.formula.api as smf\n",
    "import statsmodels.api as sm\n",
    "\n",
    "# Model metrics and analysis\n",
    "from sklearn.metrics import r2_score, mean_squared_error, mean_absolute_error\n",
    "from statsmodels.stats.anova import anova_lm"
   ]
  },
  {
   "cell_type": "code",
   "execution_count": 353,
   "id": "0a467b7c-d75e-42d9-9bac-2b23a8b17bfc",
   "metadata": {},
   "outputs": [],
   "source": [
    "#load clean data file\n",
    "df = pd.read_csv('education_data_clean.csv'\n",
    "\n",
    ")"
   ]
  },
  {
   "cell_type": "markdown",
   "id": "2fff9364-a0a1-4dee-bcc0-3ec4277d8798",
   "metadata": {},
   "source": [
    "Using only the numerical predictors from this new dataframe, the code below can create a correlation matrix that will display the correlation coefficients for all numerical variables relative to one another."
   ]
  },
  {
   "cell_type": "code",
   "execution_count": 354,
   "id": "ed1eeccc-779f-400a-9763-f46d1bd39cc1",
   "metadata": {},
   "outputs": [
    {
     "data": {
      "image/png": "[encoded data removed]",
      "text/plain": [
       "<Figure size 1000x500 with 2 Axes>"
      ]
     },
     "metadata": {},
     "output_type": "display_data"
    }
   ],
   "source": [
    "#plots correlation matrix of numerical variables in the training data to explore relationships between variables\n",
    "predictor_variables = ['rate_unemployment', 'percent_college', 'percent_married', 'median_income', 'percent_lunch', 'state', 'charter', 'title_i_status']\n",
    "\n",
    "numerical_predictors = df[predictor_variables].select_dtypes(include='number').columns.to_list()\n",
    "\n",
    "corr_matrix = df[numerical_predictors + ['average_act']].corr()\n",
    "\n",
    "plt.figure(figsize=(10,5))\n",
    "\n",
    "sns.heatmap(\n",
    "    corr_matrix, vmax=1, vmin=-1, square=True, annot=True, cmap='viridis'\n",
    ")\n",
    "\n",
    "plt.tick_params(labelsize=12)\n",
    "\n",
    "plt.show()"
   ]
  },
  {
   "cell_type": "markdown",
   "id": "72122dac-c4fa-42f9-abab-1dc7122d6df0",
   "metadata": {},
   "source": [
    "Based on the output, all numerical predictors have a non-zero correlation with average ACT scores. The magnitude is highest with ``percent_lunch``, implying that the percentage of students on free or reduced lunch is most highly correlated with ACT scores, in this case having a negative correlation. To better explore the magnitudes of the correlations and compare the categorical variables, statistical modeling will be necessary."
   ]
  },
  {
   "cell_type": "markdown",
   "id": "c7e4ccc6-b7a3-46b0-bb08-e9948f1760ff",
   "metadata": {},
   "source": [
    "## Modeling"
   ]
  },
  {
   "cell_type": "markdown",
   "id": "883a2a0c-bc33-484c-8ce8-c33213fb439d",
   "metadata": {},
   "source": [
    "Given that there are multiple variables that have a relationship with ``average_act``, a multiple linear regression model will assist in further identifying the correlated variables and the strengths of their coefficients."
   ]
  },
  {
   "cell_type": "markdown",
   "id": "83a6faac-02f6-45fe-950a-0f3f80cff368",
   "metadata": {},
   "source": [
    "### Modeling with only numerical predictors"
   ]
  },
  {
   "cell_type": "code",
   "execution_count": 373,
   "id": "cf32c3d5-ac52-4167-8014-eb901a0e414d",
   "metadata": {},
   "outputs": [],
   "source": [
    "model = smf.ols(\n",
    "    formula='average_act ~ rate_unemployment + percent_college + percent_married + median_income + percent_lunch',\n",
    "    data=df).fit()"
   ]
  },
  {
   "cell_type": "code",
   "execution_count": 374,
   "id": "cf1aa07e-68a4-4486-930f-df0173db1360",
   "metadata": {},
   "outputs": [
    {
     "name": "stdout",
     "output_type": "stream",
     "text": [
      "                            OLS Regression Results                            \n",
      "==============================================================================\n",
      "Dep. Variable:            average_act   R-squared:                       0.626\n",
      "Model:                            OLS   Adj. R-squared:                  0.625\n",
      "Method:                 Least Squares   F-statistic:                     2226.\n",
      "Date:                Wed, 22 Oct 2025   Prob (F-statistic):               0.00\n",
      "Time:                        20:31:55   Log-Likelihood:                -12302.\n",
      "No. Observations:                6662   AIC:                         2.462e+04\n",
      "Df Residuals:                    6656   BIC:                         2.466e+04\n",
      "Df Model:                           5                                         \n",
      "Covariance Type:            nonrobust                                         \n",
      "=====================================================================================\n",
      "                        coef    std err          t      P>|t|      [0.025      0.975]\n",
      "-------------------------------------------------------------------------------------\n",
      "Intercept            22.8552      0.143    159.340      0.000      22.574      23.136\n",
      "rate_unemployment    -2.6550      0.429     -6.190      0.000      -3.496      -1.814\n",
      "percent_college       1.7400      0.165     10.557      0.000       1.417       2.063\n",
      "percent_married      -0.0481      0.139     -0.347      0.729      -0.320       0.224\n",
      "median_income     -1.387e-06   1.26e-06     -1.101      0.271   -3.86e-06    1.08e-06\n",
      "percent_lunch        -7.6822      0.101    -75.967      0.000      -7.880      -7.484\n",
      "==============================================================================\n",
      "Omnibus:                      752.262   Durbin-Watson:                   1.497\n",
      "Prob(Omnibus):                  0.000   Jarque-Bera (JB):             2826.766\n",
      "Skew:                           0.530   Prob(JB):                         0.00\n",
      "Kurtosis:                       6.010   Cond. No.                     1.35e+06\n",
      "==============================================================================\n",
      "\n",
      "Notes:\n",
      "[1] Standard Errors assume that the covariance matrix of the errors is correctly specified.\n",
      "[2] The condition number is large, 1.35e+06. This might indicate that there are\n",
      "strong multicollinearity or other numerical problems.\n"
     ]
    }
   ],
   "source": [
    "print(model.summary())"
   ]
  },
  {
   "cell_type": "markdown",
   "id": "542f01cc-a936-4581-8801-25479735a97b",
   "metadata": {},
   "source": [
    "The following code defines a model identical to the one above, though with the variables ``percent_married`` and ``median_income`` omitted due to their statistical insignificance."
   ]
  },
  {
   "cell_type": "code",
   "execution_count": 375,
   "id": "81da1021-b134-4de6-9a44-c9bad262f88c",
   "metadata": {},
   "outputs": [],
   "source": [
    "model_reduced = smf.ols(\n",
    "    formula='average_act ~ rate_unemployment + percent_college + percent_lunch',\n",
    "    data=df).fit()"
   ]
  },
  {
   "cell_type": "markdown",
   "id": "24d42dc8-375c-4296-bcc9-abf12123f78e",
   "metadata": {},
   "source": [
    "The code below will provide a graphical assessment of the relationship between the predicted values of the model and the actual values."
   ]
  },
  {
   "cell_type": "code",
   "execution_count": 376,
   "id": "1ad5dd71-0d04-4363-b0d7-12080cf3228e",
   "metadata": {},
   "outputs": [],
   "source": [
    "y_hat = model_reduced.predict()"
   ]
  },
  {
   "cell_type": "code",
   "execution_count": 377,
   "id": "d02c3bed-888a-4454-867d-781aced90385",
   "metadata": {},
   "outputs": [
    {
     "data": {
      "image/png": "[encoded data removed]",
      "text/plain": [
       "<Figure size 500x500 with 1 Axes>"
      ]
     },
     "metadata": {},
     "output_type": "display_data"
    }
   ],
   "source": [
    "plt.figure(figsize=(5,5))\n",
    "\n",
    "plt.plot(y_hat, model_reduced.resid, 'ko', mec='w')\n",
    "plt.axhline(0, color='r', linestyle='dashed', lw=2)\n",
    "\n",
    "plt.xlabel('Predicted average ACT score', fontsize=16)\n",
    "plt.ylabel('Residual average ACT score', fontsize=16)\n",
    "\n",
    "plt.tick_params(labelsize=14)\n",
    "\n",
    "plt.show()"
   ]
  },
  {
   "cell_type": "markdown",
   "id": "5df95a1f-696e-47a3-bed3-560a48187cea",
   "metadata": {},
   "source": [
    "### Modeling with ``charter`` variable"
   ]
  },
  {
   "cell_type": "markdown",
   "id": "3685bf10-7447-4d4d-943e-077ccc871069",
   "metadata": {},
   "source": [
    "The model below will establish a multiple linear regression model where the intercept and slope of the linear regression is variable depending on whether or not the school is a charter school."
   ]
  },
  {
   "cell_type": "code",
   "execution_count": 378,
   "id": "dd047ab4-ded3-4717-9a4d-fb262d5f4468",
   "metadata": {},
   "outputs": [],
   "source": [
    "model_charter1 = smf.ols(formula='average_act ~ (rate_unemployment + percent_college + percent_lunch) * C(charter)', data=df).fit()"
   ]
  },
  {
   "cell_type": "markdown",
   "id": "1ed94394-57dc-4385-9443-3edc0c32676a",
   "metadata": {},
   "source": [
    "With the multiple linear regression model ``model_charter1``, an additional model ``model_charter2`` can be created from this first model. By importing the ``dmatrices`` command from the patsy library, a matrix can be designed with average ACT scores as the responding variable and the predictor variables as the explanatory variables. Predictor variables with a p-value of less than 0.05 (statistically significant) will be filtered for in this new model."
   ]
  },
  {
   "cell_type": "code",
   "execution_count": 379,
   "id": "74b18c34-64fd-4e59-9517-a34c9ff5d22a",
   "metadata": {},
   "outputs": [],
   "source": [
    "from patsy import dmatrices"
   ]
  },
  {
   "cell_type": "code",
   "execution_count": 380,
   "id": "aa021739-43eb-477e-83b9-8df6b7e0d969",
   "metadata": {},
   "outputs": [],
   "source": [
    "y, X_design = dmatrices('average_act ~ (rate_unemployment + percent_college + percent_lunch) * C(charter)',\n",
    "                        data=df,\n",
    "                        return_type='dataframe'\n",
    "                        )"
   ]
  },
  {
   "cell_type": "code",
   "execution_count": 381,
   "id": "15bf687b-5938-4aee-a757-cf11a2bc7183",
   "metadata": {},
   "outputs": [
    {
     "name": "stdout",
     "output_type": "stream",
     "text": [
      "Index(['Intercept', 'C(charter)[T.Yes]', 'rate_unemployment',\n",
      "       'rate_unemployment:C(charter)[T.Not applicable]',\n",
      "       'rate_unemployment:C(charter)[T.Yes]', 'percent_college',\n",
      "       'percent_college:C(charter)[T.Yes]', 'percent_lunch'],\n",
      "      dtype='object')\n"
     ]
    }
   ],
   "source": [
    "X = X_design.loc[:, model_charter1.pvalues<0.05]\n",
    "\n",
    "print(X.columns)"
   ]
  },
  {
   "cell_type": "code",
   "execution_count": 382,
   "id": "c9906fa7-b4c9-4174-9e90-498ae2aa1fe6",
   "metadata": {},
   "outputs": [],
   "source": [
    "model_charter2 = sm.OLS(y, X).fit()"
   ]
  },
  {
   "cell_type": "code",
   "execution_count": 383,
   "id": "ea4ea86b-a1d8-41ab-aa9b-fcbe0a983e0b",
   "metadata": {},
   "outputs": [
    {
     "name": "stdout",
     "output_type": "stream",
     "text": [
      "                            OLS Regression Results                            \n",
      "==============================================================================\n",
      "Dep. Variable:            average_act   R-squared:                       0.628\n",
      "Model:                            OLS   Adj. R-squared:                  0.627\n",
      "Method:                 Least Squares   F-statistic:                     1603.\n",
      "Date:                Wed, 22 Oct 2025   Prob (F-statistic):               0.00\n",
      "Time:                        20:36:42   Log-Likelihood:                -12285.\n",
      "No. Observations:                6662   AIC:                         2.459e+04\n",
      "Df Residuals:                    6654   BIC:                         2.464e+04\n",
      "Df Model:                           7                                         \n",
      "Covariance Type:            nonrobust                                         \n",
      "==================================================================================================================\n",
      "                                                     coef    std err          t      P>|t|      [0.025      0.975]\n",
      "------------------------------------------------------------------------------------------------------------------\n",
      "Intercept                                         22.7528      0.109    208.335      0.000      22.539      22.967\n",
      "C(charter)[T.Yes]                                  1.2538      0.532      2.357      0.018       0.211       2.297\n",
      "rate_unemployment                                 -2.0837      0.411     -5.069      0.000      -2.890      -1.278\n",
      "rate_unemployment:C(charter)[T.Not applicable]    -5.0839      1.026     -4.957      0.000      -7.094      -3.073\n",
      "rate_unemployment:C(charter)[T.Yes]               -4.5034      1.630     -2.763      0.006      -7.698      -1.309\n",
      "percent_college                                    1.6528      0.135     12.262      0.000       1.389       1.917\n",
      "percent_college:C(charter)[T.Yes]                 -1.5948      0.701     -2.275      0.023      -2.969      -0.221\n",
      "percent_lunch                                     -7.6486      0.097    -79.074      0.000      -7.838      -7.459\n",
      "==============================================================================\n",
      "Omnibus:                      738.307   Durbin-Watson:                   1.504\n",
      "Prob(Omnibus):                  0.000   Jarque-Bera (JB):             2790.966\n",
      "Skew:                           0.517   Prob(JB):                         0.00\n",
      "Kurtosis:                       5.998   Cond. No.                         112.\n",
      "==============================================================================\n",
      "\n",
      "Notes:\n",
      "[1] Standard Errors assume that the covariance matrix of the errors is correctly specified.\n"
     ]
    }
   ],
   "source": [
    "print(model_charter2.summary())"
   ]
  },
  {
   "cell_type": "markdown",
   "id": "f35677b5-0fce-4495-8307-e9d466815be6",
   "metadata": {},
   "source": [
    "The two linear regression models can have their respective mean absolute errors computed. "
   ]
  },
  {
   "cell_type": "code",
   "execution_count": 384,
   "id": "c0540013-8015-4198-8a06-f45f97747dc6",
   "metadata": {},
   "outputs": [
    {
     "data": {
      "text/plain": [
       "1.139256920070062"
      ]
     },
     "execution_count": 384,
     "metadata": {},
     "output_type": "execute_result"
    }
   ],
   "source": [
    "mean_absolute_error(df['average_act'], model_charter1.predict())"
   ]
  },
  {
   "cell_type": "code",
   "execution_count": 385,
   "id": "ba8f1a19-c400-41bb-af66-b7a4010d4986",
   "metadata": {},
   "outputs": [
    {
     "data": {
      "text/plain": [
       "1.1428383870985077"
      ]
     },
     "execution_count": 385,
     "metadata": {},
     "output_type": "execute_result"
    }
   ],
   "source": [
    "mean_absolute_error(df['average_act'], model_charter2.predict())"
   ]
  },
  {
   "cell_type": "markdown",
   "id": "78d1fe78-3c19-4442-9fae-9e6a583569c5",
   "metadata": {},
   "source": [
    "Given the very minor difference in mean absolute error between the two models, one is not necessarily better than the other at modeling the multiple linear regression than the other."
   ]
  },
  {
   "cell_type": "markdown",
   "id": "b0473f92-f5b6-48c6-8705-1ef3dc8a3b5f",
   "metadata": {},
   "source": [
    "### Modeling with ``title_i_status`` variable"
   ]
  },
  {
   "cell_type": "markdown",
   "id": "6e0c97ce-7fef-4915-96f3-6d855cf9b74c",
   "metadata": {},
   "source": [
    "The code below will repeat the process above with the ``title_i_status`` variable. "
   ]
  },
  {
   "cell_type": "code",
   "execution_count": 386,
   "id": "597cf5c5-b018-438c-b453-64d2869dd721",
   "metadata": {},
   "outputs": [],
   "source": [
    "model_title_i1 = smf.ols(formula='average_act ~ (rate_unemployment + percent_college + percent_lunch) * C(title_i_status)', data=df).fit()"
   ]
  },
  {
   "cell_type": "code",
   "execution_count": 387,
   "id": "7e366042-3ef0-4cf8-82a4-f75c449d006e",
   "metadata": {},
   "outputs": [],
   "source": [
    "from patsy import dmatrices"
   ]
  },
  {
   "cell_type": "code",
   "execution_count": 388,
   "id": "6038d140-813a-4f4e-a1c0-d13c9d36d46e",
   "metadata": {},
   "outputs": [],
   "source": [
    "y, X_design = dmatrices('average_act ~ (rate_unemployment + percent_college + percent_lunch) * C(title_i_status)',\n",
    "                        data=df,\n",
    "                        return_type='dataframe'\n",
    "                        )"
   ]
  },
  {
   "cell_type": "code",
   "execution_count": 389,
   "id": "ef2b1a6b-d37b-46e1-8dc0-166ade560571",
   "metadata": {},
   "outputs": [
    {
     "name": "stdout",
     "output_type": "stream",
     "text": [
      "Index(['Intercept', 'C(title_i_status)[T.Title I schoolwide school]',\n",
      "       'rate_unemployment:C(title_i_status)[T.Title I schoolwide school]',\n",
      "       'percent_college',\n",
      "       'percent_college:C(title_i_status)[T.Title I schoolwide school]',\n",
      "       'percent_lunch',\n",
      "       'percent_lunch:C(title_i_status)[T.Title I schoolwide school]'],\n",
      "      dtype='object')\n"
     ]
    }
   ],
   "source": [
    "X = X_design.loc[:, model_title_i1.pvalues<0.05]\n",
    "\n",
    "print(X.columns)"
   ]
  },
  {
   "cell_type": "code",
   "execution_count": 390,
   "id": "3ddc02ba-3526-4154-a12d-e8a6c3733746",
   "metadata": {},
   "outputs": [],
   "source": [
    "model_title_i2 = sm.OLS(y, X).fit()"
   ]
  },
  {
   "cell_type": "code",
   "execution_count": 391,
   "id": "0b61898a-fc1f-4b99-9f9f-bf7418ca9ed6",
   "metadata": {},
   "outputs": [
    {
     "data": {
      "text/plain": [
       "1.1401173406907157"
      ]
     },
     "execution_count": 391,
     "metadata": {},
     "output_type": "execute_result"
    }
   ],
   "source": [
    "mean_absolute_error(df['average_act'], model_title_i1.predict())"
   ]
  },
  {
   "cell_type": "code",
   "execution_count": 392,
   "id": "190c8a41-0ef2-4bb8-b245-6c2584410dc7",
   "metadata": {},
   "outputs": [
    {
     "data": {
      "text/plain": [
       "1.140109859364644"
      ]
     },
     "execution_count": 392,
     "metadata": {},
     "output_type": "execute_result"
    }
   ],
   "source": [
    "mean_absolute_error(df['average_act'], model_title_i2.predict())"
   ]
  },
  {
   "cell_type": "markdown",
   "id": "b2bec60b-238b-4fa1-9e77-6dbb7e19a49a",
   "metadata": {},
   "source": [
    "Again, given the very small difference in mean absolute error between the two models, one is not inherently the better model."
   ]
  },
  {
   "cell_type": "code",
   "execution_count": 393,
   "id": "9b36c3fc-618c-4c5f-a362-4b6a4da0c0ae",
   "metadata": {},
   "outputs": [
    {
     "data": {
      "text/html": [
       "<div>\n",
       "<style scoped>\n",
       "    .dataframe tbody tr th:only-of-type {\n",
       "        vertical-align: middle;\n",
       "    }\n",
       "\n",
       "    .dataframe tbody tr th {\n",
       "        vertical-align: top;\n",
       "    }\n",
       "\n",
       "    .dataframe thead th {\n",
       "        text-align: right;\n",
       "    }\n",
       "</style>\n",
       "<table border=\"1\" class=\"dataframe\">\n",
       "  <thead>\n",
       "    <tr style=\"text-align: right;\">\n",
       "      <th></th>\n",
       "      <th>df_resid</th>\n",
       "      <th>ssr</th>\n",
       "      <th>df_diff</th>\n",
       "      <th>ss_diff</th>\n",
       "      <th>F</th>\n",
       "      <th>Pr(&gt;F)</th>\n",
       "    </tr>\n",
       "  </thead>\n",
       "  <tbody>\n",
       "    <tr>\n",
       "      <th>0</th>\n",
       "      <td>6654.0</td>\n",
       "      <td>15442.396985</td>\n",
       "      <td>0.0</td>\n",
       "      <td>NaN</td>\n",
       "      <td>NaN</td>\n",
       "      <td>NaN</td>\n",
       "    </tr>\n",
       "    <tr>\n",
       "      <th>1</th>\n",
       "      <td>6655.0</td>\n",
       "      <td>15442.399913</td>\n",
       "      <td>-1.0</td>\n",
       "      <td>-0.002928</td>\n",
       "      <td>0.001262</td>\n",
       "      <td>NaN</td>\n",
       "    </tr>\n",
       "  </tbody>\n",
       "</table>\n",
       "</div>"
      ],
      "text/plain": [
       "   df_resid           ssr  df_diff   ss_diff         F  Pr(>F)\n",
       "0    6654.0  15442.396985      0.0       NaN       NaN     NaN\n",
       "1    6655.0  15442.399913     -1.0 -0.002928  0.001262     NaN"
      ]
     },
     "execution_count": 393,
     "metadata": {},
     "output_type": "execute_result"
    }
   ],
   "source": [
    "anova_lm(model_title_i1, model_title_i2)"
   ]
  },
  {
   "cell_type": "markdown",
   "id": "e9ab1830-31fd-46b5-a5bc-5b477e058a7d",
   "metadata": {},
   "source": [
    "Printing the summaries of each model will provide some additional insight between the models, specifically which predictor variables were not statistically significant."
   ]
  },
  {
   "cell_type": "code",
   "execution_count": 394,
   "id": "9b282003-ffc4-4211-9b63-969318ec4dfc",
   "metadata": {},
   "outputs": [
    {
     "name": "stdout",
     "output_type": "stream",
     "text": [
      "                            OLS Regression Results                            \n",
      "==============================================================================\n",
      "Dep. Variable:            average_act   R-squared:                       0.631\n",
      "Model:                            OLS   Adj. R-squared:                  0.631\n",
      "Method:                 Least Squares   F-statistic:                     1627.\n",
      "Date:                Wed, 22 Oct 2025   Prob (F-statistic):               0.00\n",
      "Time:                        20:36:56   Log-Likelihood:                -12253.\n",
      "No. Observations:                6662   AIC:                         2.452e+04\n",
      "Df Residuals:                    6654   BIC:                         2.458e+04\n",
      "Df Model:                           7                                         \n",
      "Covariance Type:            nonrobust                                         \n",
      "====================================================================================================================================\n",
      "                                                                       coef    std err          t      P>|t|      [0.025      0.975]\n",
      "------------------------------------------------------------------------------------------------------------------------------------\n",
      "Intercept                                                           21.3370      0.220     96.905      0.000      20.905      21.769\n",
      "C(title_i_status)[T.Title I schoolwide school]                       1.8556      0.252      7.353      0.000       1.361       2.350\n",
      "rate_unemployment                                                    0.0305      0.860      0.036      0.972      -1.655       1.716\n",
      "rate_unemployment:C(title_i_status)[T.Title I schoolwide school]    -3.2634      0.968     -3.370      0.001      -5.162      -1.365\n",
      "percent_college                                                      3.2546      0.252     12.900      0.000       2.760       3.749\n",
      "percent_college:C(title_i_status)[T.Title I schoolwide school]      -2.3727      0.299     -7.948      0.000      -2.958      -1.787\n",
      "percent_lunch                                                       -6.3788      0.244    -26.193      0.000      -6.856      -5.901\n",
      "percent_lunch:C(title_i_status)[T.Title I schoolwide school]        -1.2509      0.269     -4.643      0.000      -1.779      -0.723\n",
      "==============================================================================\n",
      "Omnibus:                      701.050   Durbin-Watson:                   1.489\n",
      "Prob(Omnibus):                  0.000   Jarque-Bera (JB):             2506.006\n",
      "Skew:                           0.504   Prob(JB):                         0.00\n",
      "Kurtosis:                       5.830   Cond. No.                         105.\n",
      "==============================================================================\n",
      "\n",
      "Notes:\n",
      "[1] Standard Errors assume that the covariance matrix of the errors is correctly specified.\n"
     ]
    }
   ],
   "source": [
    "print(model_title_i1.summary())"
   ]
  },
  {
   "cell_type": "code",
   "execution_count": 395,
   "id": "40d89b47-772b-44d2-b51a-394ea4ce980c",
   "metadata": {},
   "outputs": [
    {
     "name": "stdout",
     "output_type": "stream",
     "text": [
      "                            OLS Regression Results                            \n",
      "==============================================================================\n",
      "Dep. Variable:            average_act   R-squared:                       0.631\n",
      "Model:                            OLS   Adj. R-squared:                  0.631\n",
      "Method:                 Least Squares   F-statistic:                     1898.\n",
      "Date:                Wed, 22 Oct 2025   Prob (F-statistic):               0.00\n",
      "Time:                        20:36:57   Log-Likelihood:                -12253.\n",
      "No. Observations:                6662   AIC:                         2.452e+04\n",
      "Df Residuals:                    6655   BIC:                         2.457e+04\n",
      "Df Model:                           6                                         \n",
      "Covariance Type:            nonrobust                                         \n",
      "====================================================================================================================================\n",
      "                                                                       coef    std err          t      P>|t|      [0.025      0.975]\n",
      "------------------------------------------------------------------------------------------------------------------------------------\n",
      "Intercept                                                           21.3407      0.195    109.516      0.000      20.959      21.723\n",
      "C(title_i_status)[T.Title I schoolwide school]                       1.8520      0.231      8.032      0.000       1.400       2.304\n",
      "rate_unemployment:C(title_i_status)[T.Title I schoolwide school]    -3.2329      0.446     -7.250      0.000      -4.107      -2.359\n",
      "percent_college                                                      3.2520      0.241     13.479      0.000       2.779       3.725\n",
      "percent_college:C(title_i_status)[T.Title I schoolwide school]      -2.3701      0.289     -8.194      0.000      -2.937      -1.803\n",
      "percent_lunch                                                       -6.3770      0.238    -26.782      0.000      -6.844      -5.910\n",
      "percent_lunch:C(title_i_status)[T.Title I schoolwide school]        -1.2527      0.265     -4.736      0.000      -1.771      -0.734\n",
      "==============================================================================\n",
      "Omnibus:                      701.301   Durbin-Watson:                   1.489\n",
      "Prob(Omnibus):                  0.000   Jarque-Bera (JB):             2507.309\n",
      "Skew:                           0.504   Prob(JB):                         0.00\n",
      "Kurtosis:                       5.831   Cond. No.                         42.0\n",
      "==============================================================================\n",
      "\n",
      "Notes:\n",
      "[1] Standard Errors assume that the covariance matrix of the errors is correctly specified.\n"
     ]
    }
   ],
   "source": [
    "print(model_title_i2.summary())"
   ]
  },
  {
   "cell_type": "markdown",
   "id": "f6457749-be79-4056-b107-3d60c6303c11",
   "metadata": {},
   "source": [
    "The reduced model ``model_title_i2`` does notably exclude the ``rate_unemployment`` variable. This indicates that every other variable listed had a statistically significant coefficient relative to average ACT scores. However, given that all the remaining coefficients are statistically significant whether or not the school in question is a Title I school, there doesn't appear to be a major impact of this variable as a predictor for ACT scores."
   ]
  },
  {
   "cell_type": "markdown",
   "id": "9b7333dd-2101-4e6f-8ad8-7eac160c3a18",
   "metadata": {},
   "source": [
    "## Scaling"
   ]
  },
  {
   "cell_type": "markdown",
   "id": "ca747432-1fd4-4691-afa0-9e5261d41144",
   "metadata": {},
   "source": [
    "The code below will scale the predictor variables in the reduced model to have a mean of 0 and a standard deviation of 1 and add them to the data frame."
   ]
  },
  {
   "cell_type": "code",
   "execution_count": 396,
   "id": "cc7caf9a-f996-4db6-9a59-701844f2b969",
   "metadata": {},
   "outputs": [],
   "source": [
    "predictor_variables = ['rate_unemployment', 'percent_college', 'percent_lunch']"
   ]
  },
  {
   "cell_type": "code",
   "execution_count": 397,
   "id": "2eebf983-894c-4102-ab83-4ba8e7d97ef3",
   "metadata": {},
   "outputs": [
    {
     "name": "stdout",
     "output_type": "stream",
     "text": [
      "['rate_unemployment_normalized', 'percent_college_normalized', 'percent_lunch_normalized']\n"
     ]
    }
   ],
   "source": [
    "scaled_columns = [var + '_normalized' for var in predictor_variables]\n",
    "\n",
    "print(scaled_columns)"
   ]
  },
  {
   "cell_type": "code",
   "execution_count": 398,
   "id": "289aeee4-b58f-4da4-b598-fae2e605de08",
   "metadata": {},
   "outputs": [],
   "source": [
    "scaler = StandardScaler().fit(df[predictor_variables])"
   ]
  },
  {
   "cell_type": "code",
   "execution_count": 399,
   "id": "4af03d06-4ec3-4f48-8afa-306b5af634f7",
   "metadata": {},
   "outputs": [],
   "source": [
    "df[scaled_columns] = scaler.transform(df[predictor_variables])"
   ]
  },
  {
   "cell_type": "markdown",
   "id": "5a14b5a3-9583-48ba-ad8a-b7b2726d8d09",
   "metadata": {},
   "source": [
    "There should now be scaled columns within the data frame for each of the three predictor variables."
   ]
  },
  {
   "cell_type": "markdown",
   "id": "44193f90-5a16-4d09-af71-9d5a8147b8ef",
   "metadata": {},
   "source": [
    "The code below will check the mean and standard deviation of the transformed data."
   ]
  },
  {
   "cell_type": "code",
   "execution_count": 400,
   "id": "1f5dd809-23bf-4dd5-b824-22caf11b9d4d",
   "metadata": {},
   "outputs": [
    {
     "data": {
      "text/html": [
       "<div>\n",
       "<style scoped>\n",
       "    .dataframe tbody tr th:only-of-type {\n",
       "        vertical-align: middle;\n",
       "    }\n",
       "\n",
       "    .dataframe tbody tr th {\n",
       "        vertical-align: top;\n",
       "    }\n",
       "\n",
       "    .dataframe thead th {\n",
       "        text-align: right;\n",
       "    }\n",
       "</style>\n",
       "<table border=\"1\" class=\"dataframe\">\n",
       "  <thead>\n",
       "    <tr style=\"text-align: right;\">\n",
       "      <th></th>\n",
       "      <th>rate_unemployment_normalized</th>\n",
       "      <th>percent_college_normalized</th>\n",
       "      <th>percent_lunch_normalized</th>\n",
       "    </tr>\n",
       "  </thead>\n",
       "  <tbody>\n",
       "    <tr>\n",
       "      <th>mean</th>\n",
       "      <td>0.0</td>\n",
       "      <td>0.0</td>\n",
       "      <td>0.0</td>\n",
       "    </tr>\n",
       "    <tr>\n",
       "      <th>std</th>\n",
       "      <td>1.0</td>\n",
       "      <td>1.0</td>\n",
       "      <td>1.0</td>\n",
       "    </tr>\n",
       "  </tbody>\n",
       "</table>\n",
       "</div>"
      ],
      "text/plain": [
       "      rate_unemployment_normalized  percent_college_normalized  \\\n",
       "mean                           0.0                         0.0   \n",
       "std                            1.0                         1.0   \n",
       "\n",
       "      percent_lunch_normalized  \n",
       "mean                       0.0  \n",
       "std                        1.0  "
      ]
     },
     "execution_count": 400,
     "metadata": {},
     "output_type": "execute_result"
    }
   ],
   "source": [
    "df[scaled_columns].agg(['mean', 'std']).round(3)"
   ]
  },
  {
   "cell_type": "markdown",
   "id": "232f920d-74c1-470e-b1be-457fb4bc94fb",
   "metadata": {},
   "source": [
    "The output shows that the predictor variables successfully now have means of 0 and standard deviations of 1."
   ]
  },
  {
   "cell_type": "markdown",
   "id": "0f885d62-f856-4c88-8e1d-9b8658f357d2",
   "metadata": {},
   "source": [
    "The normalized predictor variables can now be used to fit a multiple linear regression model."
   ]
  },
  {
   "cell_type": "code",
   "execution_count": 401,
   "id": "ac78b635-80db-428e-99db-827fe811dfe0",
   "metadata": {},
   "outputs": [],
   "source": [
    "model_normalized = smf.ols(\n",
    "    formula='average_act ~ rate_unemployment_normalized + percent_college_normalized + percent_lunch_normalized',\n",
    "    data=df).fit()"
   ]
  },
  {
   "cell_type": "code",
   "execution_count": 402,
   "id": "49bb4534-00ff-4ff6-a929-ed02a7db14be",
   "metadata": {},
   "outputs": [
    {
     "name": "stdout",
     "output_type": "stream",
     "text": [
      "                            OLS Regression Results                            \n",
      "==============================================================================\n",
      "Dep. Variable:            average_act   R-squared:                       0.626\n",
      "Model:                            OLS   Adj. R-squared:                  0.625\n",
      "Method:                 Least Squares   F-statistic:                     3709.\n",
      "Date:                Wed, 22 Oct 2025   Prob (F-statistic):               0.00\n",
      "Time:                        20:37:12   Log-Likelihood:                -12303.\n",
      "No. Observations:                6662   AIC:                         2.461e+04\n",
      "Df Residuals:                    6658   BIC:                         2.464e+04\n",
      "Df Model:                           3                                         \n",
      "Covariance Type:            nonrobust                                         \n",
      "================================================================================================\n",
      "                                   coef    std err          t      P>|t|      [0.025      0.975]\n",
      "------------------------------------------------------------------------------------------------\n",
      "Intercept                       20.3409      0.019   1082.093      0.000      20.304      20.378\n",
      "rate_unemployment_normalized    -0.1371      0.022     -6.265      0.000      -0.180      -0.094\n",
      "percent_college_normalized       0.2667      0.022     12.168      0.000       0.224       0.310\n",
      "percent_lunch_normalized        -1.7753      0.022    -79.057      0.000      -1.819      -1.731\n",
      "==============================================================================\n",
      "Omnibus:                      749.754   Durbin-Watson:                   1.497\n",
      "Prob(Omnibus):                  0.000   Jarque-Bera (JB):             2787.802\n",
      "Skew:                           0.531   Prob(JB):                         0.00\n",
      "Kurtosis:                       5.986   Cond. No.                         1.90\n",
      "==============================================================================\n",
      "\n",
      "Notes:\n",
      "[1] Standard Errors assume that the covariance matrix of the errors is correctly specified.\n"
     ]
    }
   ],
   "source": [
    "print(model_normalized.summary())"
   ]
  },
  {
   "cell_type": "markdown",
   "id": "5eeb08c7-df25-46d8-8d74-5f7413b096b9",
   "metadata": {},
   "source": [
    "The summary of the normalized model shows that each variable has a statistically significant coefficient. In terms of magnitude, however, the percent lunch variable has a coefficient of a much greater magnitude than the other two variables."
   ]
  },
  {
   "cell_type": "markdown",
   "id": "8e4b2deb-43ec-4e5e-aa7a-2b2619ba1187",
   "metadata": {},
   "source": [
    "The mean absolute error and R-squared values of the normalized and reduced models can now be compared."
   ]
  },
  {
   "cell_type": "code",
   "execution_count": 403,
   "id": "984653ea-1fd8-49f1-afba-84b53b5979dd",
   "metadata": {},
   "outputs": [
    {
     "data": {
      "text/html": [
       "<div>\n",
       "<style scoped>\n",
       "    .dataframe tbody tr th:only-of-type {\n",
       "        vertical-align: middle;\n",
       "    }\n",
       "\n",
       "    .dataframe tbody tr th {\n",
       "        vertical-align: top;\n",
       "    }\n",
       "\n",
       "    .dataframe thead th {\n",
       "        text-align: right;\n",
       "    }\n",
       "</style>\n",
       "<table border=\"1\" class=\"dataframe\">\n",
       "  <thead>\n",
       "    <tr style=\"text-align: right;\">\n",
       "      <th></th>\n",
       "      <th>Mean Absolute Error</th>\n",
       "      <th>R-squared</th>\n",
       "    </tr>\n",
       "  </thead>\n",
       "  <tbody>\n",
       "    <tr>\n",
       "      <th>normalized model</th>\n",
       "      <td>1.1469</td>\n",
       "      <td>0.6257</td>\n",
       "    </tr>\n",
       "    <tr>\n",
       "      <th>reduced model</th>\n",
       "      <td>1.1469</td>\n",
       "      <td>0.6257</td>\n",
       "    </tr>\n",
       "  </tbody>\n",
       "</table>\n",
       "</div>"
      ],
      "text/plain": [
       "                  Mean Absolute Error  R-squared\n",
       "normalized model               1.1469     0.6257\n",
       "reduced model                  1.1469     0.6257"
      ]
     },
     "execution_count": 403,
     "metadata": {},
     "output_type": "execute_result"
    }
   ],
   "source": [
    "mae_normalized = mean_absolute_error(df['average_act'], model_normalized.predict())\n",
    "mae_reduced = mean_absolute_error(df['average_act'], model_reduced.predict())\n",
    "\n",
    "r2_full = model_normalized.rsquared\n",
    "r2_reduced = model_reduced.rsquared\n",
    "\n",
    "pd.DataFrame({'Mean Absolute Error': [mae_normalized, mae_reduced],\n",
    "              'R-squared': [r2_full, r2_reduced]},\n",
    "             index=['normalized model', 'reduced model']).round(4)"
   ]
  },
  {
   "cell_type": "markdown",
   "id": "8ab0d339-26bf-4f30-bf36-3bd7b0774e4b",
   "metadata": {},
   "source": [
    "The output shows the mean absolute error and R-squared values are identical between the two models. This is because the transformation performed to create the normalized model did not change the linear regression model overall but just the coefficients. Given the greater significance of the percent_lunch_normalized, it can be stated that the percent of students receiving free or reduced price lunch was the strongest predictor in this analysis for a change in an ACT score."
   ]
  }
 ],
 "metadata": {
  "kernelspec": {
   "display_name": "Python [conda env:base] *",
   "language": "python",
   "name": "conda-base-py"
  },
  "language_info": {
   "codemirror_mode": {
    "name": "ipython",
    "version": 3
   },
   "file_extension": ".py",
   "mimetype": "text/x-python",
   "name": "python",
   "nbconvert_exporter": "python",
   "pygments_lexer": "ipython3",
   "version": "3.13.5"
  }
 },
 "nbformat": 4,
 "nbformat_minor": 5
}
